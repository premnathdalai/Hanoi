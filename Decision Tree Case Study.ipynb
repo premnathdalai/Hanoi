{
 "cells": [
  {
   "cell_type": "code",
   "execution_count": 2,
   "metadata": {},
   "outputs": [],
   "source": [
    "##########################################################################################\n",
    "############################ PREDICTION WITH DECISION TREE ###############################\n",
    "############################## Business Contract Prediction ##############################\n",
    "##########################################################################################\n",
    "# Load libraries\n",
    "import numpy as np\n",
    "import pandas as pd\n",
    "from pandas import read_csv\n",
    "from pandas import set_option\n",
    "from sklearn.model_selection import train_test_split\n",
    "from sklearn.tree import DecisionTreeClassifier\n",
    "from sklearn.tree import export_graphviz\n",
    "from sklearn.metrics import accuracy_score\n",
    "from sklearn import tree\n",
    "import matplotlib.pyplot as plt\n",
    "%matplotlib inline\n",
    "import seaborn as sns\n",
    "from patsy import dmatrices\n",
    "from sklearn import metrics\n",
    "# Compile UDFs"
   ]
  },
  {
   "cell_type": "code",
   "execution_count": 2,
   "metadata": {},
   "outputs": [],
   "source": [
    "\n",
    "##########################################################################################\n",
    "##################################### Decision Tree Models ###############################\n",
    "##########################################################################################\n",
    "# Steps:\n",
    "#    Load packages\n",
    "#    Compile user defined functions (here for Confusion matrix & ROC/AUC Plots\n",
    "#    Read base data & prediction data\n",
    "#    check basic records\n",
    "#    Split base data to X, Y\n",
    "#    Train test split\n",
    "#    Fit Decision Tree model\n",
    "#    Parameter optimization with grid search\n",
    "#    systematic grid search & CV on train~test data\n",
    "#    select best model\n",
    "#    apply on test data\n",
    "#    evaluate performance:\n",
    "#        CF\n",
    "#        ROC/AUC\n",
    "#    apply the best model on whole data\n",
    "#    Data prep for prediction file\n",
    "#    Generate final prediction\n",
    "#    Collate & export to CSV"
   ]
  },
  {
   "cell_type": "code",
   "execution_count": 4,
   "metadata": {},
   "outputs": [],
   "source": [
    "from IPython.core.interactiveshell import InteractiveShell\n",
    "InteractiveShell.ast_node_interactivity ='all'\n",
    "set_option('display.width', 90)"
   ]
  },
  {
   "cell_type": "code",
   "execution_count": 5,
   "metadata": {},
   "outputs": [
    {
     "data": {
      "text/plain": [
       "(750, 12)"
      ]
     },
     "execution_count": 5,
     "metadata": {},
     "output_type": "execute_result"
    },
    {
     "data": {
      "text/html": [
       "<div>\n",
       "<style scoped>\n",
       "    .dataframe tbody tr th:only-of-type {\n",
       "        vertical-align: middle;\n",
       "    }\n",
       "\n",
       "    .dataframe tbody tr th {\n",
       "        vertical-align: top;\n",
       "    }\n",
       "\n",
       "    .dataframe thead th {\n",
       "        text-align: right;\n",
       "    }\n",
       "</style>\n",
       "<table border=\"1\" class=\"dataframe\">\n",
       "  <thead>\n",
       "    <tr style=\"text-align: right;\">\n",
       "      <th></th>\n",
       "      <th>Result</th>\n",
       "      <th>Product</th>\n",
       "      <th>PriceDiscount</th>\n",
       "      <th>Value</th>\n",
       "      <th>Priority</th>\n",
       "      <th>SalesChannel</th>\n",
       "      <th>Competiton</th>\n",
       "      <th>Duration_Stage1</th>\n",
       "      <th>Duration_Stage2</th>\n",
       "      <th>Duration_Stage3</th>\n",
       "      <th>Duration_Stage4</th>\n",
       "      <th>Duration_Stage5</th>\n",
       "    </tr>\n",
       "  </thead>\n",
       "  <tbody>\n",
       "    <tr>\n",
       "      <th>0</th>\n",
       "      <td>1</td>\n",
       "      <td>P02</td>\n",
       "      <td>None</td>\n",
       "      <td>617.54</td>\n",
       "      <td>Mid</td>\n",
       "      <td>Direct</td>\n",
       "      <td>Yes</td>\n",
       "      <td>2</td>\n",
       "      <td>2</td>\n",
       "      <td>2</td>\n",
       "      <td>5</td>\n",
       "      <td>2</td>\n",
       "    </tr>\n",
       "    <tr>\n",
       "      <th>1</th>\n",
       "      <td>0</td>\n",
       "      <td>P05</td>\n",
       "      <td>High</td>\n",
       "      <td>10000.00</td>\n",
       "      <td>Lowest</td>\n",
       "      <td>Mixed</td>\n",
       "      <td>Yes</td>\n",
       "      <td>0</td>\n",
       "      <td>0</td>\n",
       "      <td>7</td>\n",
       "      <td>7</td>\n",
       "      <td>7</td>\n",
       "    </tr>\n",
       "    <tr>\n",
       "      <th>2</th>\n",
       "      <td>0</td>\n",
       "      <td>P09</td>\n",
       "      <td>None</td>\n",
       "      <td>3145.00</td>\n",
       "      <td>Lowest</td>\n",
       "      <td>Direct</td>\n",
       "      <td>Maybe</td>\n",
       "      <td>0</td>\n",
       "      <td>0</td>\n",
       "      <td>9</td>\n",
       "      <td>63</td>\n",
       "      <td>9</td>\n",
       "    </tr>\n",
       "    <tr>\n",
       "      <th>3</th>\n",
       "      <td>0</td>\n",
       "      <td>P07</td>\n",
       "      <td>None</td>\n",
       "      <td>100.00</td>\n",
       "      <td>Lowest</td>\n",
       "      <td>Direct</td>\n",
       "      <td>Yes</td>\n",
       "      <td>0</td>\n",
       "      <td>3</td>\n",
       "      <td>12</td>\n",
       "      <td>22</td>\n",
       "      <td>12</td>\n",
       "    </tr>\n",
       "    <tr>\n",
       "      <th>4</th>\n",
       "      <td>0</td>\n",
       "      <td>P07</td>\n",
       "      <td>None</td>\n",
       "      <td>900.00</td>\n",
       "      <td>Lowest</td>\n",
       "      <td>Direct</td>\n",
       "      <td>Maybe</td>\n",
       "      <td>36</td>\n",
       "      <td>36</td>\n",
       "      <td>36</td>\n",
       "      <td>108</td>\n",
       "      <td>36</td>\n",
       "    </tr>\n",
       "  </tbody>\n",
       "</table>\n",
       "</div>"
      ],
      "text/plain": [
       "   Result Product PriceDiscount     Value Priority SalesChannel Competiton  \\\n",
       "0       1     P02          None    617.54      Mid       Direct        Yes   \n",
       "1       0     P05          High  10000.00   Lowest        Mixed        Yes   \n",
       "2       0     P09          None   3145.00   Lowest       Direct      Maybe   \n",
       "3       0     P07          None    100.00   Lowest       Direct        Yes   \n",
       "4       0     P07          None    900.00   Lowest       Direct      Maybe   \n",
       "\n",
       "   Duration_Stage1  Duration_Stage2  Duration_Stage3  Duration_Stage4  Duration_Stage5  \n",
       "0                2                2                2                5                2  \n",
       "1                0                0                7                7                7  \n",
       "2                0                0                9               63                9  \n",
       "3                0                3               12               22               12  \n",
       "4               36               36               36              108               36  "
      ]
     },
     "execution_count": 5,
     "metadata": {},
     "output_type": "execute_result"
    }
   ],
   "source": [
    "################### Read input data\n",
    "# Input-1: Base or Training Data\n",
    "filename1 = 'C:\\\\Users\\\\pd147\\\\Downloads\\\\Premnath\\\\Python Training\\\\NearLearn\\\\NearLearn-Contents_ML with Python_20032018\\\\6. Advanced ML Algorithm- Vol 2\\\\Decision Tree Case Study\\\\BizContract.csv'\n",
    "data = read_csv(filename1)\n",
    "data.shape\n",
    "data.head()"
   ]
  },
  {
   "cell_type": "code",
   "execution_count": 6,
   "metadata": {},
   "outputs": [
    {
     "data": {
      "text/plain": [
       "(250, 11)"
      ]
     },
     "execution_count": 6,
     "metadata": {},
     "output_type": "execute_result"
    },
    {
     "data": {
      "text/html": [
       "<div>\n",
       "<style scoped>\n",
       "    .dataframe tbody tr th:only-of-type {\n",
       "        vertical-align: middle;\n",
       "    }\n",
       "\n",
       "    .dataframe tbody tr th {\n",
       "        vertical-align: top;\n",
       "    }\n",
       "\n",
       "    .dataframe thead th {\n",
       "        text-align: right;\n",
       "    }\n",
       "</style>\n",
       "<table border=\"1\" class=\"dataframe\">\n",
       "  <thead>\n",
       "    <tr style=\"text-align: right;\">\n",
       "      <th></th>\n",
       "      <th>Product</th>\n",
       "      <th>PriceDiscount</th>\n",
       "      <th>Value</th>\n",
       "      <th>Priority</th>\n",
       "      <th>SalesChannel</th>\n",
       "      <th>Competiton</th>\n",
       "      <th>Duration_Stage1</th>\n",
       "      <th>Duration_Stage2</th>\n",
       "      <th>Duration_Stage3</th>\n",
       "      <th>Duration_Stage4</th>\n",
       "      <th>Duration_Stage5</th>\n",
       "    </tr>\n",
       "  </thead>\n",
       "  <tbody>\n",
       "    <tr>\n",
       "      <th>0</th>\n",
       "      <td>P01</td>\n",
       "      <td>None</td>\n",
       "      <td>1620.00</td>\n",
       "      <td>Lowest</td>\n",
       "      <td>Direct</td>\n",
       "      <td>Maybe</td>\n",
       "      <td>2</td>\n",
       "      <td>2</td>\n",
       "      <td>2</td>\n",
       "      <td>6</td>\n",
       "      <td>2</td>\n",
       "    </tr>\n",
       "    <tr>\n",
       "      <th>1</th>\n",
       "      <td>P01</td>\n",
       "      <td>None</td>\n",
       "      <td>227.06</td>\n",
       "      <td>Lowest</td>\n",
       "      <td>Direct</td>\n",
       "      <td>Maybe</td>\n",
       "      <td>0</td>\n",
       "      <td>0</td>\n",
       "      <td>0</td>\n",
       "      <td>0</td>\n",
       "      <td>0</td>\n",
       "    </tr>\n",
       "    <tr>\n",
       "      <th>2</th>\n",
       "      <td>P01</td>\n",
       "      <td>None</td>\n",
       "      <td>1500.00</td>\n",
       "      <td>Lowest</td>\n",
       "      <td>Direct</td>\n",
       "      <td>Maybe</td>\n",
       "      <td>75</td>\n",
       "      <td>75</td>\n",
       "      <td>75</td>\n",
       "      <td>226</td>\n",
       "      <td>75</td>\n",
       "    </tr>\n",
       "    <tr>\n",
       "      <th>3</th>\n",
       "      <td>P01</td>\n",
       "      <td>None</td>\n",
       "      <td>1000.00</td>\n",
       "      <td>Mid</td>\n",
       "      <td>Direct</td>\n",
       "      <td>Maybe</td>\n",
       "      <td>0</td>\n",
       "      <td>0</td>\n",
       "      <td>2</td>\n",
       "      <td>2</td>\n",
       "      <td>2</td>\n",
       "    </tr>\n",
       "    <tr>\n",
       "      <th>4</th>\n",
       "      <td>P03</td>\n",
       "      <td>Mid</td>\n",
       "      <td>4020.48</td>\n",
       "      <td>Mid</td>\n",
       "      <td>Mixed</td>\n",
       "      <td>Yes</td>\n",
       "      <td>3</td>\n",
       "      <td>3</td>\n",
       "      <td>3</td>\n",
       "      <td>8</td>\n",
       "      <td>3</td>\n",
       "    </tr>\n",
       "  </tbody>\n",
       "</table>\n",
       "</div>"
      ],
      "text/plain": [
       "  Product PriceDiscount    Value Priority SalesChannel Competiton  Duration_Stage1  \\\n",
       "0     P01          None  1620.00   Lowest       Direct      Maybe                2   \n",
       "1     P01          None   227.06   Lowest       Direct      Maybe                0   \n",
       "2     P01          None  1500.00   Lowest       Direct      Maybe               75   \n",
       "3     P01          None  1000.00      Mid       Direct      Maybe                0   \n",
       "4     P03           Mid  4020.48      Mid        Mixed        Yes                3   \n",
       "\n",
       "   Duration_Stage2  Duration_Stage3  Duration_Stage4  Duration_Stage5  \n",
       "0                2                2                6                2  \n",
       "1                0                0                0                0  \n",
       "2               75               75              226               75  \n",
       "3                0                2                2                2  \n",
       "4                3                3                8                3  "
      ]
     },
     "execution_count": 6,
     "metadata": {},
     "output_type": "execute_result"
    }
   ],
   "source": [
    "# Input-2: Prediction data\n",
    "filename2 = 'C:\\\\Users\\\\pd147\\\\Downloads\\\\Premnath\\\\Python Training\\\\NearLearn\\\\NearLearn-Contents_ML with Python_20032018\\\\6. Advanced ML Algorithm- Vol 2\\\\Decision Tree Case Study\\\\BizContract_Pred.csv'\n",
    "pred = read_csv(filename2)\n",
    "pred.shape\n",
    "pred.head()"
   ]
  },
  {
   "cell_type": "code",
   "execution_count": 6,
   "metadata": {},
   "outputs": [
    {
     "data": {
      "text/plain": [
       "Result               int64\n",
       "Product             object\n",
       "PriceDiscount       object\n",
       "Value              float64\n",
       "Priority            object\n",
       "SalesChannel        object\n",
       "Competiton          object\n",
       "Duration_Stage1      int64\n",
       "Duration_Stage2      int64\n",
       "Duration_Stage3      int64\n",
       "Duration_Stage4      int64\n",
       "Duration_Stage5      int64\n",
       "dtype: object"
      ]
     },
     "execution_count": 6,
     "metadata": {},
     "output_type": "execute_result"
    },
    {
     "data": {
      "text/plain": [
       "Product             object\n",
       "PriceDiscount       object\n",
       "Value              float64\n",
       "Priority            object\n",
       "SalesChannel        object\n",
       "Competiton          object\n",
       "Duration_Stage1      int64\n",
       "Duration_Stage2      int64\n",
       "Duration_Stage3      int64\n",
       "Duration_Stage4      int64\n",
       "Duration_Stage5      int64\n",
       "dtype: object"
      ]
     },
     "execution_count": 6,
     "metadata": {},
     "output_type": "execute_result"
    }
   ],
   "source": [
    "set_option('display.max_rows', 500)\n",
    "data.dtypes\n",
    "pred.dtypes"
   ]
  },
  {
   "cell_type": "code",
   "execution_count": 7,
   "metadata": {},
   "outputs": [
    {
     "data": {
      "text/html": [
       "<div>\n",
       "<style scoped>\n",
       "    .dataframe tbody tr th:only-of-type {\n",
       "        vertical-align: middle;\n",
       "    }\n",
       "\n",
       "    .dataframe tbody tr th {\n",
       "        vertical-align: top;\n",
       "    }\n",
       "\n",
       "    .dataframe thead th {\n",
       "        text-align: right;\n",
       "    }\n",
       "</style>\n",
       "<table border=\"1\" class=\"dataframe\">\n",
       "  <thead>\n",
       "    <tr style=\"text-align: right;\">\n",
       "      <th></th>\n",
       "      <th>Result</th>\n",
       "      <th>Value</th>\n",
       "      <th>Duration_Stage1</th>\n",
       "      <th>Duration_Stage2</th>\n",
       "      <th>Duration_Stage3</th>\n",
       "      <th>Duration_Stage4</th>\n",
       "      <th>Duration_Stage5</th>\n",
       "    </tr>\n",
       "  </thead>\n",
       "  <tbody>\n",
       "    <tr>\n",
       "      <th>count</th>\n",
       "      <td>750.00</td>\n",
       "      <td>750.0</td>\n",
       "      <td>750.00</td>\n",
       "      <td>750.00</td>\n",
       "      <td>750.00</td>\n",
       "      <td>750.00</td>\n",
       "      <td>750.00</td>\n",
       "    </tr>\n",
       "    <tr>\n",
       "      <th>mean</th>\n",
       "      <td>0.49</td>\n",
       "      <td>7299.5</td>\n",
       "      <td>3.00</td>\n",
       "      <td>5.55</td>\n",
       "      <td>7.58</td>\n",
       "      <td>18.18</td>\n",
       "      <td>7.58</td>\n",
       "    </tr>\n",
       "    <tr>\n",
       "      <th>std</th>\n",
       "      <td>0.50</td>\n",
       "      <td>31000.3</td>\n",
       "      <td>7.37</td>\n",
       "      <td>9.95</td>\n",
       "      <td>12.12</td>\n",
       "      <td>26.59</td>\n",
       "      <td>12.12</td>\n",
       "    </tr>\n",
       "    <tr>\n",
       "      <th>min</th>\n",
       "      <td>0.00</td>\n",
       "      <td>0.1</td>\n",
       "      <td>0.00</td>\n",
       "      <td>0.00</td>\n",
       "      <td>0.00</td>\n",
       "      <td>0.00</td>\n",
       "      <td>0.00</td>\n",
       "    </tr>\n",
       "    <tr>\n",
       "      <th>25%</th>\n",
       "      <td>0.00</td>\n",
       "      <td>500.0</td>\n",
       "      <td>0.00</td>\n",
       "      <td>0.00</td>\n",
       "      <td>0.00</td>\n",
       "      <td>0.00</td>\n",
       "      <td>0.00</td>\n",
       "    </tr>\n",
       "    <tr>\n",
       "      <th>50%</th>\n",
       "      <td>0.00</td>\n",
       "      <td>1500.0</td>\n",
       "      <td>0.00</td>\n",
       "      <td>0.00</td>\n",
       "      <td>2.00</td>\n",
       "      <td>7.00</td>\n",
       "      <td>2.00</td>\n",
       "    </tr>\n",
       "    <tr>\n",
       "      <th>75%</th>\n",
       "      <td>1.00</td>\n",
       "      <td>4800.0</td>\n",
       "      <td>2.00</td>\n",
       "      <td>8.00</td>\n",
       "      <td>10.00</td>\n",
       "      <td>25.75</td>\n",
       "      <td>10.00</td>\n",
       "    </tr>\n",
       "    <tr>\n",
       "      <th>max</th>\n",
       "      <td>1.00</td>\n",
       "      <td>600080.0</td>\n",
       "      <td>61.00</td>\n",
       "      <td>61.00</td>\n",
       "      <td>71.00</td>\n",
       "      <td>184.00</td>\n",
       "      <td>71.00</td>\n",
       "    </tr>\n",
       "  </tbody>\n",
       "</table>\n",
       "</div>"
      ],
      "text/plain": [
       "       Result     Value  Duration_Stage1  Duration_Stage2  Duration_Stage3  Duration_Stage4  \\\n",
       "count  750.00     750.0           750.00           750.00           750.00           750.00   \n",
       "mean     0.49    7299.5             3.00             5.55             7.58            18.18   \n",
       "std      0.50   31000.3             7.37             9.95            12.12            26.59   \n",
       "min      0.00       0.1             0.00             0.00             0.00             0.00   \n",
       "25%      0.00     500.0             0.00             0.00             0.00             0.00   \n",
       "50%      0.00    1500.0             0.00             0.00             2.00             7.00   \n",
       "75%      1.00    4800.0             2.00             8.00            10.00            25.75   \n",
       "max      1.00  600080.0            61.00            61.00            71.00           184.00   \n",
       "\n",
       "       Duration_Stage5  \n",
       "count           750.00  \n",
       "mean              7.58  \n",
       "std              12.12  \n",
       "min               0.00  \n",
       "25%               0.00  \n",
       "50%               2.00  \n",
       "75%              10.00  \n",
       "max              71.00  "
      ]
     },
     "execution_count": 7,
     "metadata": {},
     "output_type": "execute_result"
    }
   ],
   "source": [
    "# Data description: base\n",
    "set_option('display.width', 100)\n",
    "set_option('precision', 2)\n",
    "data.describe()\n"
   ]
  },
  {
   "cell_type": "code",
   "execution_count": 9,
   "metadata": {},
   "outputs": [
    {
     "name": "stdout",
     "output_type": "stream",
     "text": [
      "31\n",
      "Index(['Intercept', 'C(Product)[T.P02]', 'C(Product)[T.P03]', 'C(Product)[T.P04]',\n",
      "       'C(Product)[T.P05]', 'C(Product)[T.P06]', 'C(Product)[T.P07]',\n",
      "       'C(Product)[T.P08]', 'C(Product)[T.P09]', 'C(Product)[T.P10]',\n",
      "       'C(Product)[T.P11]', 'C(Product)[T.P12]', 'C(PriceDiscount)[T.Low]',\n",
      "       'C(PriceDiscount)[T.Mid]', 'C(PriceDiscount)[T.None]',\n",
      "       'C(PriceDiscount)[T.Very_High]', 'C(Priority)[T.Low]', 'C(Priority)[T.Lowest]',\n",
      "       'C(Priority)[T.Mid]', 'C(SalesChannel)[T.Indirect]', 'C(SalesChannel)[T.Misc]',\n",
      "       'C(SalesChannel)[T.Mixed]', 'C(SalesChannel)[T.None]', 'C(Competiton)[T.No]',\n",
      "       'C(Competiton)[T.Yes]', 'Value', 'Duration_Stage1', 'Duration_Stage2',\n",
      "       'Duration_Stage3', 'Duration_Stage4', 'Duration_Stage5'],\n",
      "      dtype='object')\n"
     ]
    }
   ],
   "source": [
    "\n",
    "###########################################################################################\n",
    "############################  Model Building on train ~ test data  ########################\n",
    "###########################################################################################\n",
    "\n",
    "############# Create dummy\n",
    "#df_dummy = pd.get_dummies(data)\n",
    "#df_dummy.columns\n",
    "#df_dummy.dtypes\n",
    "#df_dummy.shape\n",
    "#\n",
    "## Extract X & Y\n",
    "#X = df_dummy.values[:, 1:36]\n",
    "#Y = df_dummy.values[:,0]\n",
    "\n",
    "# set random seed\n",
    "import random\n",
    "random.seed(5)\n",
    "\n",
    "# prep data\n",
    "Y, X = dmatrices('Result~C(Product)+ C(PriceDiscount)+ Value+ C(Priority)+ C(SalesChannel)+ \\\n",
    "                 C(Competiton)+ Duration_Stage1+ Duration_Stage2+ Duration_Stage3+ Duration_Stage4+ Duration_Stage5',\n",
    "                 data, return_type=\"dataframe\")\n",
    "print (len(X.columns))\n",
    "print (X.columns)\n"
   ]
  },
  {
   "cell_type": "code",
   "execution_count": 10,
   "metadata": {},
   "outputs": [
    {
     "data": {
      "text/plain": [
       "array([1., 0., 0., 0., 0., 1., 0., 1., 1., 1., 1., 1., 0., 1., 1., 1., 0.,\n",
       "       1., 0., 1., 1., 1., 1., 0., 0., 1., 0., 1., 0., 0., 1., 0., 1., 0.,\n",
       "       0., 1., 1., 1., 1., 0., 1., 1., 0., 0., 0., 1., 0., 1., 0., 1., 0.,\n",
       "       0., 0., 0., 1., 0., 0., 0., 0., 1., 1., 1., 0., 0., 1., 0., 1., 0.,\n",
       "       1., 1., 1., 1., 1., 0., 1., 0., 0., 1., 0., 1., 0., 1., 1., 1., 1.,\n",
       "       0., 0., 0., 0., 0., 1., 1., 0., 1., 0., 1., 0., 1., 0., 0., 0., 0.,\n",
       "       0., 0., 0., 1., 0., 1., 1., 1., 0., 1., 1., 0., 1., 0., 0., 0., 0.,\n",
       "       0., 1., 0., 0., 1., 0., 0., 1., 1., 0., 0., 0., 0., 0., 0., 0., 0.,\n",
       "       0., 0., 0., 0., 1., 1., 1., 1., 0., 1., 1., 1., 0., 1., 0., 1., 1.,\n",
       "       1., 1., 0., 0., 0., 1., 1., 0., 1., 1., 1., 0., 0., 1., 1., 1., 0.,\n",
       "       1., 1., 0., 1., 1., 0., 1., 1., 0., 1., 0., 0., 1., 0., 1., 1., 0.,\n",
       "       0., 1., 0., 1., 1., 0., 0., 0., 1., 1., 1., 1., 0., 0., 0., 0., 0.,\n",
       "       0., 0., 1., 0., 0., 0., 0., 1., 0., 1., 1., 0., 0., 0., 1., 0., 0.,\n",
       "       1., 1., 1., 1., 1., 1., 1., 1., 1., 0., 0., 1., 1., 1., 0., 0., 0.,\n",
       "       1., 0., 0., 0., 1., 0., 1., 0., 1., 0., 1., 0., 0., 1., 0., 1., 0.,\n",
       "       0., 0., 1., 1., 1., 0., 1., 0., 0., 0., 1., 1., 1., 0., 1., 1., 0.,\n",
       "       0., 0., 1., 1., 0., 1., 1., 0., 1., 1., 1., 0., 0., 0., 0., 1., 1.,\n",
       "       0., 1., 1., 0., 0., 1., 1., 0., 1., 1., 1., 1., 0., 1., 0., 1., 1.,\n",
       "       0., 1., 1., 1., 1., 0., 1., 1., 0., 1., 1., 0., 0., 0., 1., 0., 0.,\n",
       "       0., 0., 1., 0., 1., 1., 0., 1., 1., 1., 0., 0., 0., 1., 1., 0., 0.,\n",
       "       0., 0., 1., 0., 0., 1., 1., 0., 0., 0., 0., 0., 0., 1., 0., 1., 0.,\n",
       "       0., 1., 0., 1., 0., 1., 1., 0., 1., 0., 0., 0., 0., 1., 1., 0., 1.,\n",
       "       0., 0., 1., 0., 1., 0., 1., 0., 1., 0., 0., 1., 1., 1., 0., 0., 1.,\n",
       "       1., 1., 0., 1., 1., 1., 0., 1., 0., 1., 0., 1., 0., 0., 0., 1., 1.,\n",
       "       0., 1., 1., 0., 1., 1., 0., 0., 0., 0., 1., 1., 0., 0., 0., 0., 0.,\n",
       "       0., 1., 0., 1., 0., 1., 0., 0., 1., 0., 1., 0., 0., 0., 0., 1., 0.,\n",
       "       0., 1., 1., 1., 1., 1., 1., 0., 1., 1., 0., 0., 0., 1., 1., 1., 0.,\n",
       "       1., 1., 0., 0., 1., 1., 1., 1., 1., 1., 1., 0., 1., 0., 0., 0., 1.,\n",
       "       0., 0., 0., 0., 1., 1., 0., 0., 1., 0., 1., 0., 0., 1., 0., 0., 1.,\n",
       "       1., 0., 1., 1., 0., 1., 0., 1., 1., 1., 0., 1., 1., 0., 1., 1., 1.,\n",
       "       0., 0., 0., 1., 0., 0., 0., 0., 0., 0., 0., 0., 0., 1., 0., 0., 1.,\n",
       "       0., 0., 1., 0., 1., 1., 0., 0., 0., 1., 0., 0., 0., 0., 1., 0., 0.,\n",
       "       1., 0., 1., 1., 1., 0., 1., 0., 0., 1., 1., 0., 1., 0., 1., 1., 1.,\n",
       "       1., 1., 0., 1., 1., 1., 1., 0., 1., 1., 1., 0., 0., 1., 1., 1., 1.,\n",
       "       1., 0., 0., 0., 0., 1., 0., 1., 0., 1., 1., 0., 0., 0., 1., 1., 1.,\n",
       "       1., 0., 1., 0., 1., 0., 0., 1., 1., 1., 0., 1., 0., 0., 1., 1., 0.,\n",
       "       1., 1., 1., 1., 1., 1., 0., 1., 0., 0., 1., 1., 1., 1., 0., 0., 1.,\n",
       "       0., 1., 1., 0., 1., 0., 1., 0., 1., 0., 0., 0., 0., 1., 0., 1., 1.,\n",
       "       1., 0., 1., 0., 0., 1., 1., 1., 1., 1., 0., 0., 1., 0., 1., 0., 0.,\n",
       "       1., 0., 0., 0., 0., 1., 0., 1., 1., 1., 1., 0., 0., 1., 1., 1., 0.,\n",
       "       1., 1., 0., 1., 0., 0., 0., 0., 0., 0., 0., 0., 1., 0., 1., 1., 0.,\n",
       "       1., 1., 1., 1., 0., 0., 0., 0., 0., 1., 0., 1., 0., 0., 0., 0., 1.,\n",
       "       1., 1., 1., 1., 1., 1., 0., 1., 1., 0., 0., 0., 0., 0., 0., 1., 0.,\n",
       "       0., 0., 1., 0., 1., 1., 0., 1., 1., 1., 1., 1., 0., 0., 0., 0., 1.,\n",
       "       0., 0.])"
      ]
     },
     "execution_count": 10,
     "metadata": {},
     "output_type": "execute_result"
    }
   ],
   "source": [
    "# flatten y into a 1-D array\n",
    "Y = np.ravel(Y)\n",
    "Y"
   ]
  },
  {
   "cell_type": "code",
   "execution_count": 11,
   "metadata": {},
   "outputs": [],
   "source": [
    "############ Train ~ Test Split\n",
    "X_train, X_test, y_train, y_test = train_test_split( X, Y, test_size = 0.3, random_state = 105)\n"
   ]
  },
  {
   "cell_type": "code",
   "execution_count": 12,
   "metadata": {},
   "outputs": [
    {
     "data": {
      "text/plain": [
       "DecisionTreeClassifier(class_weight=None, criterion='gini', max_depth=2,\n",
       "            max_features=None, max_leaf_nodes=None,\n",
       "            min_impurity_decrease=0.0, min_impurity_split=None,\n",
       "            min_samples_leaf=3, min_samples_split=2,\n",
       "            min_weight_fraction_leaf=0.0, presort=False, random_state=105,\n",
       "            splitter='best')"
      ]
     },
     "execution_count": 12,
     "metadata": {},
     "output_type": "execute_result"
    }
   ],
   "source": [
    "############################ Model-1 with gini index #####################################\n",
    "clf_gini = DecisionTreeClassifier(criterion = \"gini\", random_state = 105,\n",
    "                                  max_depth=2, min_samples_leaf=3)    \n",
    "clf_gini.fit(X_train, y_train)\n"
   ]
  },
  {
   "cell_type": "code",
   "execution_count": 3,
   "metadata": {},
   "outputs": [],
   "source": [
    "DecisionTreeClassifier?"
   ]
  },
  {
   "cell_type": "code",
   "execution_count": 13,
   "metadata": {
    "scrolled": true
   },
   "outputs": [
    {
     "name": "stdout",
     "output_type": "stream",
     "text": [
      "[1. 0. 0. 0. 0. 0. 0. 0. 1. 0. 0. 1. 1. 0. 1. 1. 1. 1. 0. 0. 1. 0. 1. 1.\n",
      " 1. 0. 0. 0. 1. 0. 1. 0. 1. 0. 0. 1. 0. 0. 1. 0. 0. 0. 1. 0. 0. 0. 0. 0.\n",
      " 0. 0. 0. 0. 0. 1. 0. 0. 0. 1. 1. 1. 1. 0. 1. 0. 0. 0. 0. 0. 0. 1. 0. 0.\n",
      " 0. 1. 0. 1. 0. 0. 0. 1. 0. 0. 0. 1. 1. 0. 1. 0. 0. 0. 1. 0. 0. 0. 0. 1.\n",
      " 0. 1. 0. 0. 0. 1. 0. 0. 0. 1. 1. 1. 0. 1. 0. 0. 1. 0. 0. 0. 1. 0. 0. 1.\n",
      " 0. 0. 0. 0. 0. 0. 0. 0. 1. 0. 1. 0. 0. 0. 0. 0. 0. 0. 0. 0. 1. 0. 0. 0.\n",
      " 0. 0. 0. 0. 1. 0. 1. 0. 0. 1. 1. 0. 0. 1. 0. 0. 1. 0. 0. 0. 1. 0. 0. 1.\n",
      " 0. 1. 0. 0. 0. 1. 0. 1. 1. 0. 0. 0. 0. 0. 0. 0. 0. 1. 0. 1. 0. 0. 1. 0.\n",
      " 0. 0. 1. 1. 1. 0. 0. 0. 1. 0. 1. 0. 0. 0. 1. 0. 0. 0. 0. 0. 0. 0. 0. 0.\n",
      " 0. 0. 1. 0. 0. 0. 1. 0. 1.]\n"
     ]
    }
   ],
   "source": [
    "# Predict on test\n",
    "y_pred = clf_gini.predict(X_test)\n",
    "print(y_pred)"
   ]
  },
  {
   "cell_type": "code",
   "execution_count": 13,
   "metadata": {},
   "outputs": [
    {
     "name": "stdout",
     "output_type": "stream",
     "text": [
      "Accuracy based on Gini:  70.22222222222221\n"
     ]
    },
    {
     "data": {
      "text/plain": [
       "' Accuracy changes with max_depth & min_samples_leaf \\n(e.g, max_depth=5 decreases and min_samples_leaf=15 increases!!'"
      ]
     },
     "execution_count": 13,
     "metadata": {},
     "output_type": "execute_result"
    }
   ],
   "source": [
    "############# Accuracy\n",
    "print (\"Accuracy based on Gini: \", accuracy_score(y_test,y_pred)*100 )\n",
    "\n",
    "''' Accuracy changes with max_depth & min_samples_leaf \n",
    "(e.g, max_depth=5 decreases and min_samples_leaf=15 increases!!'''\n"
   ]
  },
  {
   "cell_type": "code",
   "execution_count": 14,
   "metadata": {},
   "outputs": [
    {
     "data": {
      "text/plain": [
       "DecisionTreeClassifier(class_weight=None, criterion='entropy', max_depth=2,\n",
       "            max_features=None, max_leaf_nodes=None,\n",
       "            min_impurity_decrease=0.0, min_impurity_split=None,\n",
       "            min_samples_leaf=3, min_samples_split=2,\n",
       "            min_weight_fraction_leaf=0.0, presort=False, random_state=105,\n",
       "            splitter='best')"
      ]
     },
     "execution_count": 14,
     "metadata": {},
     "output_type": "execute_result"
    }
   ],
   "source": [
    "\n",
    "############################ Model-2 with Entropy #####################################\n",
    "clf_entropy = DecisionTreeClassifier(criterion = \"entropy\", random_state = 105,\n",
    "                                     max_depth=2, min_samples_leaf=3)\n",
    "clf_entropy.fit(X_train, y_train)\n",
    "\n"
   ]
  },
  {
   "cell_type": "code",
   "execution_count": 15,
   "metadata": {},
   "outputs": [
    {
     "data": {
      "text/plain": [
       "array([1., 0., 0., 0., 0., 0., 0., 0., 1., 0., 0., 1., 1., 0., 1., 1., 1.,\n",
       "       1., 0., 0., 1., 0., 1., 1., 1., 0., 0., 0., 1., 0., 1., 0., 1., 0.,\n",
       "       0., 1., 0., 0., 1., 0., 0., 0., 1., 0., 0., 0., 0., 0., 0., 0., 0.,\n",
       "       0., 0., 1., 0., 0., 0., 1., 1., 1., 1., 0., 1., 0., 0., 0., 0., 0.,\n",
       "       0., 1., 0., 0., 0., 1., 0., 1., 0., 0., 0., 1., 0., 0., 0., 1., 1.,\n",
       "       0., 1., 0., 0., 0., 1., 0., 0., 0., 0., 1., 0., 1., 0., 0., 0., 1.,\n",
       "       0., 0., 0., 1., 1., 1., 0., 1., 0., 0., 1., 0., 0., 0., 1., 0., 0.,\n",
       "       1., 0., 0., 0., 0., 0., 0., 0., 0., 1., 0., 1., 0., 0., 0., 0., 0.,\n",
       "       0., 0., 0., 0., 1., 0., 0., 0., 0., 0., 0., 0., 1., 0., 1., 0., 0.,\n",
       "       1., 1., 0., 0., 1., 0., 0., 1., 0., 0., 0., 1., 0., 0., 1., 0., 1.,\n",
       "       0., 0., 0., 1., 0., 1., 1., 0., 0., 0., 0., 0., 0., 0., 0., 1., 0.,\n",
       "       1., 0., 0., 1., 0., 0., 0., 1., 1., 1., 0., 0., 0., 1., 0., 1., 0.,\n",
       "       0., 0., 1., 0., 0., 0., 0., 0., 0., 0., 0., 0., 0., 0., 1., 0., 0.,\n",
       "       0., 1., 0., 1.])"
      ]
     },
     "execution_count": 15,
     "metadata": {},
     "output_type": "execute_result"
    }
   ],
   "source": [
    "# Predict on test\n",
    "y_pred_en = clf_entropy.predict(X_test)\n",
    "y_pred_en\n"
   ]
  },
  {
   "cell_type": "code",
   "execution_count": 16,
   "metadata": {},
   "outputs": [
    {
     "name": "stdout",
     "output_type": "stream",
     "text": [
      "Accuracy based on Entropy:  70.22222222222221\n"
     ]
    }
   ],
   "source": [
    "# Accuracy\n",
    "print(\"Accuracy based on Entropy: \", accuracy_score(y_test,y_pred_en)*100)\n"
   ]
  },
  {
   "cell_type": "code",
   "execution_count": 14,
   "metadata": {},
   "outputs": [
    {
     "name": "stdout",
     "output_type": "stream",
     "text": [
      "[(1, 1, 77.33333333333333), (1, 2, 77.33333333333333), (1, 3, 77.33333333333333), (1, 4, 77.33333333333333), (1, 5, 77.33333333333333), (1, 6, 77.33333333333333), (1, 7, 77.33333333333333), (1, 8, 77.33333333333333), (1, 9, 77.33333333333333), (1, 10, 77.33333333333333), (1, 11, 77.33333333333333), (1, 12, 77.33333333333333), (1, 13, 77.33333333333333), (1, 14, 77.33333333333333), (1, 15, 77.33333333333333), (1, 16, 77.33333333333333), (1, 17, 77.33333333333333), (1, 18, 77.33333333333333), (1, 19, 77.33333333333333), (1, 20, 77.33333333333333), (2, 1, 70.22222222222221), (2, 2, 70.22222222222221), (2, 3, 70.22222222222221), (2, 4, 70.22222222222221), (2, 5, 70.22222222222221), (2, 6, 70.22222222222221), (2, 7, 70.22222222222221), (2, 8, 70.22222222222221), (2, 9, 70.22222222222221), (2, 10, 70.22222222222221), (2, 11, 70.22222222222221), (2, 12, 70.22222222222221), (2, 13, 70.22222222222221), (2, 14, 70.22222222222221), (2, 15, 70.22222222222221), (2, 16, 70.22222222222221), (2, 17, 70.22222222222221), (2, 18, 70.22222222222221), (2, 19, 70.22222222222221), (2, 20, 70.22222222222221), (3, 1, 80.0), (3, 2, 80.0), (3, 3, 80.0), (3, 4, 80.0), (3, 5, 80.0), (3, 6, 80.0), (3, 7, 80.0), (3, 8, 80.0), (3, 9, 79.55555555555556), (3, 10, 76.44444444444444), (3, 11, 76.44444444444444), (3, 12, 76.44444444444444), (3, 13, 76.44444444444444), (3, 14, 76.44444444444444), (3, 15, 78.22222222222223), (3, 16, 78.22222222222223), (3, 17, 78.22222222222223), (3, 18, 79.11111111111111), (3, 19, 77.33333333333333), (3, 20, 73.77777777777777), (4, 1, 75.55555555555556), (4, 2, 75.55555555555556), (4, 3, 75.55555555555556), (4, 4, 75.55555555555556), (4, 5, 75.55555555555556), (4, 6, 75.55555555555556), (4, 7, 75.55555555555556), (4, 8, 75.55555555555556), (4, 9, 74.22222222222223), (4, 10, 76.88888888888889), (4, 11, 76.88888888888889), (4, 12, 75.1111111111111), (4, 13, 75.1111111111111), (4, 14, 75.1111111111111), (4, 15, 76.88888888888889), (4, 16, 76.88888888888889), (4, 17, 76.88888888888889), (4, 18, 77.77777777777779), (4, 19, 76.0), (4, 20, 75.1111111111111), (5, 1, 76.44444444444444), (5, 2, 76.44444444444444), (5, 3, 76.44444444444444), (5, 4, 76.88888888888889), (5, 5, 76.88888888888889), (5, 6, 77.77777777777779), (5, 7, 76.0), (5, 8, 75.55555555555556), (5, 9, 74.22222222222223), (5, 10, 76.88888888888889), (5, 11, 76.88888888888889), (5, 12, 75.55555555555556), (5, 13, 75.55555555555556), (5, 14, 74.66666666666667), (5, 15, 78.66666666666666), (5, 16, 76.88888888888889), (5, 17, 76.88888888888889), (5, 18, 77.77777777777779), (5, 19, 76.0), (5, 20, 75.1111111111111), (6, 1, 75.1111111111111), (6, 2, 75.1111111111111), (6, 3, 75.55555555555556), (6, 4, 76.0), (6, 5, 76.0), (6, 6, 77.33333333333333), (6, 7, 77.33333333333333), (6, 8, 76.44444444444444), (6, 9, 73.77777777777777), (6, 10, 75.1111111111111), (6, 11, 76.0), (6, 12, 75.55555555555556), (6, 13, 75.55555555555556), (6, 14, 74.66666666666667), (6, 15, 78.66666666666666), (6, 16, 76.88888888888889), (6, 17, 76.88888888888889), (6, 18, 77.77777777777779), (6, 19, 76.0), (6, 20, 75.1111111111111), (7, 1, 74.22222222222223), (7, 2, 76.88888888888889), (7, 3, 74.66666666666667), (7, 4, 74.22222222222223), (7, 5, 76.44444444444444), (7, 6, 76.44444444444444), (7, 7, 76.88888888888889), (7, 8, 76.44444444444444), (7, 9, 73.77777777777777), (7, 10, 76.0), (7, 11, 76.0), (7, 12, 75.55555555555556), (7, 13, 75.55555555555556), (7, 14, 74.66666666666667), (7, 15, 78.66666666666666), (7, 16, 76.88888888888889), (7, 17, 76.88888888888889), (7, 18, 77.77777777777779), (7, 19, 76.0), (7, 20, 75.1111111111111), (8, 1, 72.44444444444444), (8, 2, 73.77777777777777), (8, 3, 75.55555555555556), (8, 4, 75.1111111111111), (8, 5, 76.44444444444444), (8, 6, 75.55555555555556), (8, 7, 76.88888888888889), (8, 8, 76.44444444444444), (8, 9, 73.77777777777777), (8, 10, 76.0), (8, 11, 76.0), (8, 12, 75.55555555555556), (8, 13, 75.55555555555556), (8, 14, 74.66666666666667), (8, 15, 78.66666666666666), (8, 16, 76.88888888888889), (8, 17, 76.88888888888889), (8, 18, 77.77777777777779), (8, 19, 76.0), (8, 20, 75.1111111111111), (9, 1, 72.44444444444444), (9, 2, 72.88888888888889), (9, 3, 74.66666666666667), (9, 4, 76.0), (9, 5, 76.44444444444444), (9, 6, 75.55555555555556), (9, 7, 76.88888888888889), (9, 8, 76.44444444444444), (9, 9, 73.77777777777777), (9, 10, 76.0), (9, 11, 76.0), (9, 12, 75.55555555555556), (9, 13, 75.55555555555556), (9, 14, 74.66666666666667), (9, 15, 78.66666666666666), (9, 16, 76.88888888888889), (9, 17, 76.88888888888889), (9, 18, 77.77777777777779), (9, 19, 76.0), (9, 20, 75.1111111111111), (10, 1, 72.88888888888889), (10, 2, 72.88888888888889), (10, 3, 74.22222222222223), (10, 4, 75.1111111111111), (10, 5, 76.44444444444444), (10, 6, 75.55555555555556), (10, 7, 76.88888888888889), (10, 8, 76.44444444444444), (10, 9, 73.77777777777777), (10, 10, 76.0), (10, 11, 76.0), (10, 12, 75.55555555555556), (10, 13, 75.55555555555556), (10, 14, 74.66666666666667), (10, 15, 78.66666666666666), (10, 16, 76.88888888888889), (10, 17, 76.88888888888889), (10, 18, 77.77777777777779), (10, 19, 76.0), (10, 20, 75.1111111111111), (11, 1, 75.1111111111111), (11, 2, 74.22222222222223), (11, 3, 74.22222222222223), (11, 4, 75.1111111111111), (11, 5, 76.44444444444444), (11, 6, 75.55555555555556), (11, 7, 76.88888888888889), (11, 8, 76.44444444444444), (11, 9, 73.77777777777777), (11, 10, 76.0), (11, 11, 76.0), (11, 12, 75.55555555555556), (11, 13, 75.55555555555556), (11, 14, 74.66666666666667), (11, 15, 78.66666666666666), (11, 16, 76.88888888888889), (11, 17, 76.88888888888889), (11, 18, 77.77777777777779), (11, 19, 76.0), (11, 20, 75.1111111111111), (12, 1, 73.33333333333333), (12, 2, 73.77777777777777), (12, 3, 74.22222222222223), (12, 4, 75.1111111111111), (12, 5, 76.44444444444444), (12, 6, 75.55555555555556), (12, 7, 76.88888888888889), (12, 8, 76.44444444444444), (12, 9, 73.77777777777777), (12, 10, 76.0), (12, 11, 76.0), (12, 12, 75.55555555555556), (12, 13, 75.55555555555556), (12, 14, 74.66666666666667), (12, 15, 78.66666666666666), (12, 16, 76.88888888888889), (12, 17, 76.88888888888889), (12, 18, 77.77777777777779), (12, 19, 76.0), (12, 20, 75.1111111111111), (13, 1, 74.22222222222223), (13, 2, 73.77777777777777), (13, 3, 74.22222222222223), (13, 4, 75.1111111111111), (13, 5, 76.44444444444444), (13, 6, 75.55555555555556), (13, 7, 76.88888888888889), (13, 8, 76.44444444444444), (13, 9, 73.77777777777777), (13, 10, 76.0), (13, 11, 76.0), (13, 12, 75.55555555555556), (13, 13, 75.55555555555556), (13, 14, 74.66666666666667), (13, 15, 78.66666666666666), (13, 16, 76.88888888888889), (13, 17, 76.88888888888889), (13, 18, 77.77777777777779), (13, 19, 76.0), (13, 20, 75.1111111111111), (14, 1, 74.66666666666667), (14, 2, 73.77777777777777), (14, 3, 74.22222222222223), (14, 4, 75.1111111111111), (14, 5, 76.44444444444444), (14, 6, 75.55555555555556), (14, 7, 76.88888888888889), (14, 8, 76.44444444444444), (14, 9, 73.77777777777777), (14, 10, 76.0), (14, 11, 76.0), (14, 12, 75.55555555555556), (14, 13, 75.55555555555556), (14, 14, 74.66666666666667), (14, 15, 78.66666666666666), (14, 16, 76.88888888888889), (14, 17, 76.88888888888889), (14, 18, 77.77777777777779), (14, 19, 76.0), (14, 20, 75.1111111111111), (15, 1, 74.66666666666667), (15, 2, 73.77777777777777), (15, 3, 74.22222222222223), (15, 4, 75.1111111111111), (15, 5, 76.44444444444444), (15, 6, 75.55555555555556), (15, 7, 76.88888888888889), (15, 8, 76.44444444444444), (15, 9, 73.77777777777777), (15, 10, 76.0), (15, 11, 76.0), (15, 12, 75.55555555555556), (15, 13, 75.55555555555556), (15, 14, 74.66666666666667), (15, 15, 78.66666666666666), (15, 16, 76.88888888888889), (15, 17, 76.88888888888889), (15, 18, 77.77777777777779), (15, 19, 76.0), (15, 20, 75.1111111111111), (16, 1, 76.0), (16, 2, 73.77777777777777), (16, 3, 74.22222222222223), (16, 4, 75.1111111111111), (16, 5, 76.44444444444444), (16, 6, 75.55555555555556), (16, 7, 76.88888888888889), (16, 8, 76.44444444444444), (16, 9, 73.77777777777777), (16, 10, 76.0), (16, 11, 76.0), (16, 12, 75.55555555555556), (16, 13, 75.55555555555556), (16, 14, 74.66666666666667), (16, 15, 78.66666666666666), (16, 16, 76.88888888888889), (16, 17, 76.88888888888889), (16, 18, 77.77777777777779), (16, 19, 76.0), (16, 20, 75.1111111111111), (17, 1, 76.0), (17, 2, 73.77777777777777), (17, 3, 74.22222222222223), (17, 4, 75.1111111111111), (17, 5, 76.44444444444444), (17, 6, 75.55555555555556), (17, 7, 76.88888888888889), (17, 8, 76.44444444444444), (17, 9, 73.77777777777777), (17, 10, 76.0), (17, 11, 76.0), (17, 12, 75.55555555555556), (17, 13, 75.55555555555556), (17, 14, 74.66666666666667), (17, 15, 78.66666666666666), (17, 16, 76.88888888888889), (17, 17, 76.88888888888889), (17, 18, 77.77777777777779), (17, 19, 76.0), (17, 20, 75.1111111111111), (18, 1, 76.0), (18, 2, 73.77777777777777), (18, 3, 74.22222222222223), (18, 4, 75.1111111111111), (18, 5, 76.44444444444444), (18, 6, 75.55555555555556), (18, 7, 76.88888888888889), (18, 8, 76.44444444444444), (18, 9, 73.77777777777777), (18, 10, 76.0), (18, 11, 76.0), (18, 12, 75.55555555555556), (18, 13, 75.55555555555556), (18, 14, 74.66666666666667), (18, 15, 78.66666666666666), (18, 16, 76.88888888888889), (18, 17, 76.88888888888889), (18, 18, 77.77777777777779), (18, 19, 76.0), (18, 20, 75.1111111111111), (19, 1, 76.0), (19, 2, 73.77777777777777), (19, 3, 74.22222222222223), (19, 4, 75.1111111111111), (19, 5, 76.44444444444444), (19, 6, 75.55555555555556), (19, 7, 76.88888888888889), (19, 8, 76.44444444444444), (19, 9, 73.77777777777777), (19, 10, 76.0), (19, 11, 76.0), (19, 12, 75.55555555555556), (19, 13, 75.55555555555556), (19, 14, 74.66666666666667), (19, 15, 78.66666666666666), (19, 16, 76.88888888888889), (19, 17, 76.88888888888889), (19, 18, 77.77777777777779), (19, 19, 76.0), (19, 20, 75.1111111111111), (20, 1, 76.0), (20, 2, 73.77777777777777), (20, 3, 74.22222222222223), (20, 4, 75.1111111111111), (20, 5, 76.44444444444444), (20, 6, 75.55555555555556), (20, 7, 76.88888888888889), (20, 8, 76.44444444444444), (20, 9, 73.77777777777777), (20, 10, 76.0), (20, 11, 76.0), (20, 12, 75.55555555555556), (20, 13, 75.55555555555556), (20, 14, 74.66666666666667), (20, 15, 78.66666666666666), (20, 16, 76.88888888888889), (20, 17, 76.88888888888889), (20, 18, 77.77777777777779), (20, 19, 76.0), (20, 20, 75.1111111111111)]\n"
     ]
    }
   ],
   "source": [
    "\n",
    "############################ Optimize Model-2 with manual grid search  ###################\n",
    "depth = []\n",
    "for i in range(1,21):\n",
    "    for j in range(1,21):        \n",
    "        clf = DecisionTreeClassifier(criterion = \"entropy\", random_state = 105,\n",
    "                                         max_depth=i, min_samples_leaf=j)    # Model is based on entropy\n",
    "        clf = clf.fit(X_train,y_train)\n",
    "        y_pred_en = clf.predict(X_test)\n",
    "        depth.append((i,j,accuracy_score(y_test,y_pred_en)*100))\n",
    "print(depth)\n"
   ]
  },
  {
   "cell_type": "code",
   "execution_count": 15,
   "metadata": {},
   "outputs": [
    {
     "name": "stdout",
     "output_type": "stream",
     "text": [
      "     max_depth  min_samples_leaf   Accuracy\n",
      "0            1                 1  77.333333\n",
      "1            1                 2  77.333333\n",
      "2            1                 3  77.333333\n",
      "3            1                 4  77.333333\n",
      "4            1                 5  77.333333\n",
      "5            1                 6  77.333333\n",
      "6            1                 7  77.333333\n",
      "7            1                 8  77.333333\n",
      "8            1                 9  77.333333\n",
      "9            1                10  77.333333\n",
      "10           1                11  77.333333\n",
      "11           1                12  77.333333\n",
      "12           1                13  77.333333\n",
      "13           1                14  77.333333\n",
      "14           1                15  77.333333\n",
      "15           1                16  77.333333\n",
      "16           1                17  77.333333\n",
      "17           1                18  77.333333\n",
      "18           1                19  77.333333\n",
      "19           1                20  77.333333\n",
      "20           2                 1  70.222222\n",
      "21           2                 2  70.222222\n",
      "22           2                 3  70.222222\n",
      "23           2                 4  70.222222\n",
      "24           2                 5  70.222222\n",
      "25           2                 6  70.222222\n",
      "26           2                 7  70.222222\n",
      "27           2                 8  70.222222\n",
      "28           2                 9  70.222222\n",
      "29           2                10  70.222222\n",
      "..         ...               ...        ...\n",
      "370         19                11  76.000000\n",
      "371         19                12  75.555556\n",
      "372         19                13  75.555556\n",
      "373         19                14  74.666667\n",
      "374         19                15  78.666667\n",
      "375         19                16  76.888889\n",
      "376         19                17  76.888889\n",
      "377         19                18  77.777778\n",
      "378         19                19  76.000000\n",
      "379         19                20  75.111111\n",
      "380         20                 1  76.000000\n",
      "381         20                 2  73.777778\n",
      "382         20                 3  74.222222\n",
      "383         20                 4  75.111111\n",
      "384         20                 5  76.444444\n",
      "385         20                 6  75.555556\n",
      "386         20                 7  76.888889\n",
      "387         20                 8  76.444444\n",
      "388         20                 9  73.777778\n",
      "389         20                10  76.000000\n",
      "390         20                11  76.000000\n",
      "391         20                12  75.555556\n",
      "392         20                13  75.555556\n",
      "393         20                14  74.666667\n",
      "394         20                15  78.666667\n",
      "395         20                16  76.888889\n",
      "396         20                17  76.888889\n",
      "397         20                18  77.777778\n",
      "398         20                19  76.000000\n",
      "399         20                20  75.111111\n",
      "\n",
      "[400 rows x 3 columns]\n"
     ]
    }
   ],
   "source": [
    "\n",
    "grid_summary=pd.DataFrame(depth)\n",
    "grid_summary.columns =['max_depth', 'min_samples_leaf', 'Accuracy']\n",
    "grid_summary.to_csv('C:\\\\Users\\\\pd147\\\\Downloads\\\\Premnath\\\\Python Training\\\\NearLearn\\\\NearLearn-Contents_ML with Python_20032018\\\\6. Advanced ML Algorithm- Vol 2\\\\Decision Tree Case Study\\\\grid_summary.csv', index=False)\n",
    "print(grid_summary)"
   ]
  },
  {
   "cell_type": "code",
   "execution_count": 16,
   "metadata": {},
   "outputs": [
    {
     "data": {
      "text/plain": [
       "DecisionTreeClassifier(class_weight=None, criterion='entropy', max_depth=3,\n",
       "            max_features=None, max_leaf_nodes=None,\n",
       "            min_impurity_decrease=0.0, min_impurity_split=None,\n",
       "            min_samples_leaf=15, min_samples_split=2,\n",
       "            min_weight_fraction_leaf=0.0, presort=False, random_state=105,\n",
       "            splitter='best')"
      ]
     },
     "execution_count": 16,
     "metadata": {},
     "output_type": "execute_result"
    }
   ],
   "source": [
    "########################## Improved model manual grid search ###################################\n",
    "#  max_depth=3, min_samples_leaf=15 gives the best accuracy, let's take it.\n",
    "clf_entropy = DecisionTreeClassifier(criterion = \"entropy\", random_state = 105,\n",
    "                                     max_depth=3, min_samples_leaf=15)\n",
    "clf_entropy.fit(X_train, y_train)\n"
   ]
  },
  {
   "cell_type": "code",
   "execution_count": 17,
   "metadata": {},
   "outputs": [
    {
     "data": {
      "text/plain": [
       "array([1., 1., 0., 0., 0., 0., 0., 1., 1., 0., 1., 1., 1., 0., 1., 1., 1.,\n",
       "       1., 0., 0., 1., 0., 1., 1., 1., 0., 0., 0., 1., 0., 1., 0., 1., 1.,\n",
       "       0., 1., 0., 0., 1., 0., 0., 0., 1., 0., 0., 0., 0., 1., 0., 0., 1.,\n",
       "       0., 0., 1., 0., 0., 1., 1., 1., 1., 1., 0., 1., 0., 0., 1., 0., 0.,\n",
       "       0., 1., 0., 0., 0., 1., 0., 1., 0., 0., 0., 1., 0., 0., 1., 1., 1.,\n",
       "       0., 1., 0., 0., 0., 1., 0., 1., 0., 0., 1., 0., 1., 0., 0., 1., 1.,\n",
       "       1., 0., 0., 1., 1., 1., 0., 1., 0., 0., 1., 0., 0., 0., 1., 0., 1.,\n",
       "       1., 0., 0., 0., 1., 0., 0., 0., 1., 1., 0., 1., 0., 1., 1., 0., 0.,\n",
       "       1., 0., 0., 1., 1., 0., 0., 0., 0., 1., 0., 0., 1., 0., 1., 0., 0.,\n",
       "       1., 1., 0., 0., 1., 1., 0., 1., 0., 0., 0., 1., 0., 0., 1., 1., 1.,\n",
       "       0., 0., 0., 1., 0., 1., 1., 0., 0., 0., 0., 1., 0., 0., 0., 1., 0.,\n",
       "       1., 0., 0., 1., 0., 0., 0., 1., 1., 1., 0., 0., 0., 1., 0., 1., 0.,\n",
       "       0., 0., 1., 0., 0., 0., 0., 0., 0., 0., 0., 1., 0., 0., 1., 0., 0.,\n",
       "       0., 1., 0., 1.])"
      ]
     },
     "execution_count": 17,
     "metadata": {},
     "output_type": "execute_result"
    }
   ],
   "source": [
    "# Predict on test\n",
    "y_pred_en = clf_entropy.predict(X_test)\n",
    "y_pred_en"
   ]
  },
  {
   "cell_type": "code",
   "execution_count": 18,
   "metadata": {},
   "outputs": [
    {
     "name": "stdout",
     "output_type": "stream",
     "text": [
      "Accuracy based on Entropy:  78.22222222222223\n"
     ]
    }
   ],
   "source": [
    "# Accuracy\n",
    "print (\"Accuracy based on Entropy: \", accuracy_score(y_test,y_pred_en)*100)\n"
   ]
  },
  {
   "cell_type": "code",
   "execution_count": 21,
   "metadata": {},
   "outputs": [
    {
     "name": "stderr",
     "output_type": "stream",
     "text": [
      "C:\\Users\\pd147\\AppData\\Local\\Continuum\\anaconda3\\lib\\site-packages\\sklearn\\grid_search.py:42: DeprecationWarning: This module was deprecated in version 0.18 in favor of the model_selection module into which all the refactored classes and functions are moved. This module will be removed in 0.20.\n",
      "  DeprecationWarning)\n"
     ]
    },
    {
     "data": {
      "text/plain": [
       "GridSearchCV(cv=10, error_score='raise',\n",
       "       estimator=DecisionTreeClassifier(class_weight=None, criterion='gini', max_depth=None,\n",
       "            max_features=None, max_leaf_nodes=None,\n",
       "            min_impurity_decrease=0.0, min_impurity_split=None,\n",
       "            min_samples_leaf=1, min_samples_split=2,\n",
       "            min_weight_fraction_leaf=0.0, presort=False, random_state=None,\n",
       "            splitter='best'),\n",
       "       fit_params={}, iid=True, n_jobs=1,\n",
       "       param_grid={'max_depth': array([ 3,  4,  5,  6,  7,  8,  9, 10, 11, 12, 13, 14, 15, 16, 17, 18, 19]), 'max_features': array([3, 4, 5, 6, 7]), 'min_samples_leaf': array([ 3,  4,  5,  6,  7,  8,  9, 10, 11, 12, 13, 14, 15, 16, 17, 18, 19])},\n",
       "       pre_dispatch='2*n_jobs', refit=True, scoring=None, verbose=0)"
      ]
     },
     "execution_count": 21,
     "metadata": {},
     "output_type": "execute_result"
    },
    {
     "data": {
      "text/plain": [
       "{'max_depth': 15, 'max_features': 5, 'min_samples_leaf': 12}"
      ]
     },
     "execution_count": 21,
     "metadata": {},
     "output_type": "execute_result"
    },
    {
     "data": {
      "text/plain": [
       "0.8019047619047619"
      ]
     },
     "execution_count": 21,
     "metadata": {},
     "output_type": "execute_result"
    }
   ],
   "source": [
    "# But it does not do a CV, hence let's do a CV with systematic Grid-Search\n",
    "\n",
    "############################ Optimize Model-2 with CV & grid search  ############################\n",
    "from sklearn import metrics\n",
    "from sklearn.tree import DecisionTreeClassifier, export_graphviz, export\n",
    "from sklearn.grid_search import GridSearchCV\n",
    "\n",
    "param_grid = {'max_depth': np.arange(3, 20), \n",
    "              'max_features': np.arange(3,8),\n",
    "              'min_samples_leaf': np.arange(3,20)}\n",
    "gridOptim = GridSearchCV(DecisionTreeClassifier(), param_grid, cv = 10)\n",
    "gridOptim.fit(X_train, y_train)\n",
    "gridOptim.best_params_\n",
    "gridOptim.best_score_\n",
    "\n"
   ]
  },
  {
   "cell_type": "code",
   "execution_count": 22,
   "metadata": {},
   "outputs": [
    {
     "data": {
      "text/plain": [
       "DecisionTreeClassifier(class_weight=None, criterion='entropy', max_depth=4,\n",
       "            max_features=7, max_leaf_nodes=None, min_impurity_decrease=0.0,\n",
       "            min_impurity_split=None, min_samples_leaf=15,\n",
       "            min_samples_split=2, min_weight_fraction_leaf=0.0,\n",
       "            presort=False, random_state=None, splitter='best')"
      ]
     },
     "execution_count": 22,
     "metadata": {},
     "output_type": "execute_result"
    }
   ],
   "source": [
    "########################## Final model post-optimization  ###################################\n",
    "#  {'max_depth': 11, 'max_features': 4, 'min_samples_leaf': 12} let's take it.\n",
    "# for demo we are using a smaller number as otherwise will take longer time!\n",
    "\n",
    "clf_tree = DecisionTreeClassifier(criterion = \"entropy\", max_depth = 4, max_features=7, min_samples_leaf=15)\n",
    "clf_tree.fit(X_train, y_train)\n",
    "\n"
   ]
  },
  {
   "cell_type": "code",
   "execution_count": 23,
   "metadata": {
    "collapsed": true
   },
   "outputs": [
    {
     "name": "stdout",
     "output_type": "stream",
     "text": [
      "[[0.11267606 0.88732394]\n",
      " [0.27027027 0.72972973]\n",
      " [0.76190476 0.23809524]\n",
      " [0.81818182 0.18181818]\n",
      " [0.94285714 0.05714286]\n",
      " [0.52380952 0.47619048]\n",
      " [0.76190476 0.23809524]\n",
      " [0.11267606 0.88732394]\n",
      " [0.27027027 0.72972973]\n",
      " [0.52380952 0.47619048]\n",
      " [0.27027027 0.72972973]\n",
      " [0.27027027 0.72972973]\n",
      " [0.11267606 0.88732394]\n",
      " [0.70588235 0.29411765]\n",
      " [0.11267606 0.88732394]\n",
      " [0.11267606 0.88732394]\n",
      " [0.11267606 0.88732394]\n",
      " [0.11267606 0.88732394]\n",
      " [0.44827586 0.55172414]\n",
      " [0.81818182 0.18181818]\n",
      " [0.11267606 0.88732394]\n",
      " [0.40909091 0.59090909]\n",
      " [0.11267606 0.88732394]\n",
      " [0.11267606 0.88732394]\n",
      " [0.11267606 0.88732394]\n",
      " [0.94285714 0.05714286]\n",
      " [0.94285714 0.05714286]\n",
      " [0.77777778 0.22222222]\n",
      " [0.11267606 0.88732394]\n",
      " [0.77777778 0.22222222]\n",
      " [0.11267606 0.88732394]\n",
      " [0.93333333 0.06666667]\n",
      " [0.11267606 0.88732394]\n",
      " [0.70588235 0.29411765]\n",
      " [0.94285714 0.05714286]\n",
      " [0.11267606 0.88732394]\n",
      " [0.95       0.05      ]\n",
      " [0.94285714 0.05714286]\n",
      " [0.11267606 0.88732394]\n",
      " [0.94285714 0.05714286]\n",
      " [0.93333333 0.06666667]\n",
      " [0.94285714 0.05714286]\n",
      " [0.11267606 0.88732394]\n",
      " [0.40909091 0.59090909]\n",
      " [0.76190476 0.23809524]\n",
      " [0.70588235 0.29411765]\n",
      " [0.40909091 0.59090909]\n",
      " [0.44827586 0.55172414]\n",
      " [0.76190476 0.23809524]\n",
      " [0.76190476 0.23809524]\n",
      " [0.70588235 0.29411765]\n",
      " [0.52380952 0.47619048]\n",
      " [0.40909091 0.59090909]\n",
      " [0.11267606 0.88732394]\n",
      " [0.40909091 0.59090909]\n",
      " [1.         0.        ]\n",
      " [0.44827586 0.55172414]\n",
      " [0.11267606 0.88732394]\n",
      " [0.11267606 0.88732394]\n",
      " [0.2        0.8       ]\n",
      " [0.11267606 0.88732394]\n",
      " [0.52380952 0.47619048]\n",
      " [0.11267606 0.88732394]\n",
      " [0.81818182 0.18181818]\n",
      " [0.52380952 0.47619048]\n",
      " [0.27027027 0.72972973]\n",
      " [0.77777778 0.22222222]\n",
      " [0.77777778 0.22222222]\n",
      " [0.76190476 0.23809524]\n",
      " [0.11267606 0.88732394]\n",
      " [0.81818182 0.18181818]\n",
      " [0.77777778 0.22222222]\n",
      " [1.         0.        ]\n",
      " [0.11267606 0.88732394]\n",
      " [0.70588235 0.29411765]\n",
      " [0.11267606 0.88732394]\n",
      " [0.70588235 0.29411765]\n",
      " [0.44827586 0.55172414]\n",
      " [0.95       0.05      ]\n",
      " [0.11267606 0.88732394]\n",
      " [0.94285714 0.05714286]\n",
      " [0.52380952 0.47619048]\n",
      " [0.52380952 0.47619048]\n",
      " [0.2        0.8       ]\n",
      " [0.27027027 0.72972973]\n",
      " [0.95       0.05      ]\n",
      " [0.11267606 0.88732394]\n",
      " [0.27027027 0.72972973]\n",
      " [0.81818182 0.18181818]\n",
      " [0.94285714 0.05714286]\n",
      " [0.11267606 0.88732394]\n",
      " [0.52380952 0.47619048]\n",
      " [0.44827586 0.55172414]\n",
      " [0.11267606 0.88732394]\n",
      " [0.93333333 0.06666667]\n",
      " [0.2        0.8       ]\n",
      " [0.77777778 0.22222222]\n",
      " [0.2        0.8       ]\n",
      " [0.77777778 0.22222222]\n",
      " [0.76190476 0.23809524]\n",
      " [0.27027027 0.72972973]\n",
      " [0.11267606 0.88732394]\n",
      " [0.44827586 0.55172414]\n",
      " [0.95       0.05      ]\n",
      " [0.40909091 0.59090909]\n",
      " [0.11267606 0.88732394]\n",
      " [0.2        0.8       ]\n",
      " [0.27027027 0.72972973]\n",
      " [0.95       0.05      ]\n",
      " [0.11267606 0.88732394]\n",
      " [0.81818182 0.18181818]\n",
      " [0.40909091 0.59090909]\n",
      " [0.11267606 0.88732394]\n",
      " [0.40909091 0.59090909]\n",
      " [0.40909091 0.59090909]\n",
      " [0.94285714 0.05714286]\n",
      " [0.11267606 0.88732394]\n",
      " [0.52380952 0.47619048]\n",
      " [0.27027027 0.72972973]\n",
      " [0.11267606 0.88732394]\n",
      " [0.27027027 0.72972973]\n",
      " [0.93333333 0.06666667]\n",
      " [1.         0.        ]\n",
      " [0.44827586 0.55172414]\n",
      " [0.81818182 0.18181818]\n",
      " [0.76190476 0.23809524]\n",
      " [0.76190476 0.23809524]\n",
      " [0.52380952 0.47619048]\n",
      " [0.11267606 0.88732394]\n",
      " [0.94285714 0.05714286]\n",
      " [0.11267606 0.88732394]\n",
      " [0.81818182 0.18181818]\n",
      " [0.52380952 0.47619048]\n",
      " [0.44827586 0.55172414]\n",
      " [0.94285714 0.05714286]\n",
      " [0.81818182 0.18181818]\n",
      " [0.27027027 0.72972973]\n",
      " [0.76190476 0.23809524]\n",
      " [0.77777778 0.22222222]\n",
      " [0.44827586 0.55172414]\n",
      " [0.27027027 0.72972973]\n",
      " [0.94285714 0.05714286]\n",
      " [0.40909091 0.59090909]\n",
      " [1.         0.        ]\n",
      " [0.76190476 0.23809524]\n",
      " [0.44827586 0.55172414]\n",
      " [0.93333333 0.06666667]\n",
      " [0.81818182 0.18181818]\n",
      " [0.2        0.8       ]\n",
      " [0.52380952 0.47619048]\n",
      " [0.11267606 0.88732394]\n",
      " [0.76190476 0.23809524]\n",
      " [0.70588235 0.29411765]\n",
      " [0.11267606 0.88732394]\n",
      " [0.11267606 0.88732394]\n",
      " [0.94285714 0.05714286]\n",
      " [0.95       0.05      ]\n",
      " [0.27027027 0.72972973]\n",
      " [0.27027027 0.72972973]\n",
      " [0.94285714 0.05714286]\n",
      " [0.11267606 0.88732394]\n",
      " [0.81818182 0.18181818]\n",
      " [0.81818182 0.18181818]\n",
      " [0.94285714 0.05714286]\n",
      " [0.11267606 0.88732394]\n",
      " [0.76190476 0.23809524]\n",
      " [0.93333333 0.06666667]\n",
      " [0.2        0.8       ]\n",
      " [0.70588235 0.29411765]\n",
      " [0.11267606 0.88732394]\n",
      " [0.81818182 0.18181818]\n",
      " [0.52380952 0.47619048]\n",
      " [0.52380952 0.47619048]\n",
      " [0.27027027 0.72972973]\n",
      " [0.81818182 0.18181818]\n",
      " [0.27027027 0.72972973]\n",
      " [0.11267606 0.88732394]\n",
      " [0.76190476 0.23809524]\n",
      " [0.76190476 0.23809524]\n",
      " [0.77777778 0.22222222]\n",
      " [0.95       0.05      ]\n",
      " [0.44827586 0.55172414]\n",
      " [0.76190476 0.23809524]\n",
      " [0.40909091 0.59090909]\n",
      " [0.94285714 0.05714286]\n",
      " [0.2        0.8       ]\n",
      " [0.52380952 0.47619048]\n",
      " [0.27027027 0.72972973]\n",
      " [0.76190476 0.23809524]\n",
      " [0.27027027 0.72972973]\n",
      " [0.27027027 0.72972973]\n",
      " [0.81818182 0.18181818]\n",
      " [0.95       0.05      ]\n",
      " [0.44827586 0.55172414]\n",
      " [0.11267606 0.88732394]\n",
      " [0.11267606 0.88732394]\n",
      " [0.11267606 0.88732394]\n",
      " [0.81818182 0.18181818]\n",
      " [0.81818182 0.18181818]\n",
      " [0.76190476 0.23809524]\n",
      " [0.11267606 0.88732394]\n",
      " [0.76190476 0.23809524]\n",
      " [0.11267606 0.88732394]\n",
      " [0.81818182 0.18181818]\n",
      " [0.94285714 0.05714286]\n",
      " [0.81818182 0.18181818]\n",
      " [0.11267606 0.88732394]\n",
      " [0.70588235 0.29411765]\n",
      " [0.95       0.05      ]\n",
      " [0.95       0.05      ]\n",
      " [0.76190476 0.23809524]\n",
      " [0.93333333 0.06666667]\n",
      " [0.94285714 0.05714286]\n",
      " [0.94285714 0.05714286]\n",
      " [1.         0.        ]\n",
      " [0.44827586 0.55172414]\n",
      " [0.95       0.05      ]\n",
      " [0.76190476 0.23809524]\n",
      " [0.2        0.8       ]\n",
      " [0.40909091 0.59090909]\n",
      " [0.81818182 0.18181818]\n",
      " [0.81818182 0.18181818]\n",
      " [0.11267606 0.88732394]\n",
      " [0.76190476 0.23809524]\n",
      " [0.11267606 0.88732394]]\n"
     ]
    }
   ],
   "source": [
    "######### Performance Evaluation of this model with CF, AUC, ROC etc. with this model\n",
    "# generate class probabilities\n",
    "probs = clf_tree.predict_proba(X_test)\n",
    "print (probs)   # Note: Classifier sets Class= 1 when pr. in the second column > 0.5\n"
   ]
  },
  {
   "cell_type": "code",
   "execution_count": 24,
   "metadata": {
    "scrolled": true
   },
   "outputs": [
    {
     "name": "stdout",
     "output_type": "stream",
     "text": [
      "0.7822222222222223\n",
      "0.8380722319024234\n",
      "[[95 12]\n",
      " [37 81]]\n",
      "             precision    recall  f1-score   support\n",
      "\n",
      "        0.0       0.72      0.89      0.79       107\n",
      "        1.0       0.87      0.69      0.77       118\n",
      "\n",
      "avg / total       0.80      0.78      0.78       225\n",
      "\n"
     ]
    }
   ],
   "source": [
    "# generate evaluation metrics\n",
    "print(metrics.accuracy_score(y_test, y_pred_en))\n",
    "print(metrics.roc_auc_score(y_test, probs[:, 1]))\n",
    "print(metrics.confusion_matrix(y_test, y_pred_en))\n",
    "print(metrics.classification_report(y_test, y_pred_en))"
   ]
  },
  {
   "cell_type": "code",
   "execution_count": 25,
   "metadata": {},
   "outputs": [],
   "source": [
    "\n",
    "\n",
    "###################### User Defined Function for CF & ROC/AUC Plot #################################\n",
    "def plot_cm(ax, y_true, y_pred, classes, title, th=0.5, cmap=plt.cm.Blues):\n",
    "    y_pred_labels = (y_pred>th).astype(int)\n",
    "    \n",
    "    cm = confusion_matrix(y_true, y_pred_labels)\n",
    "    \n",
    "    im = ax.imshow(cm, interpolation='nearest', cmap=cmap)\n",
    "    ax.set_title(title)\n",
    "\n",
    "    tick_marks = np.arange(len(classes))\n",
    "    ax.set_xticks(tick_marks)\n",
    "    ax.set_yticks(tick_marks)\n",
    "    ax.set_xticklabels(classes)\n",
    "    ax.set_yticklabels(classes)\n",
    "\n",
    "    thresh = cm.max() / 2.\n",
    "    for i, j in itertools.product(range(cm.shape[0]), range(cm.shape[1])):\n",
    "        ax.text(j, i, cm[i, j],\n",
    "                 horizontalalignment=\"center\",\n",
    "                 color=\"white\" if cm[i, j] > thresh else \"black\")\n",
    "    ax.set_ylabel('True label')\n",
    "    ax.set_xlabel('Predicted label')\n",
    "\n",
    "def plot_auc(ax, y_train, y_train_pred, y_test, y_test_pred, th=0.5):\n",
    "\n",
    "    y_train_pred_labels = (y_train_pred>th).astype(int)\n",
    "    y_test_pred_labels  = (y_test_pred>th).astype(int)\n",
    "\n",
    "    fpr_train, tpr_train, _ = roc_curve(y_train,y_train_pred)\n",
    "    roc_auc_train = auc(fpr_train, tpr_train)\n",
    "    acc_train = accuracy_score(y_train, y_train_pred_labels)\n",
    "\n",
    "    fpr_test, tpr_test, _ = roc_curve(y_test,y_test_pred)\n",
    "    roc_auc_test = auc(fpr_test, tpr_test)\n",
    "    acc_test = accuracy_score(y_test, y_test_pred_labels)\n",
    "\n",
    "    ax.plot(fpr_train, tpr_train)\n",
    "    ax.plot(fpr_test, tpr_test)\n",
    "\n",
    "    ax.plot([0, 1], [0, 1], 'k--')\n",
    "\n",
    "    ax.set_xlim([0.0, 1.0])\n",
    "    ax.set_ylim([0.0, 1.05])\n",
    "    ax.set_xlabel('False Positive Rate')\n",
    "    ax.set_ylabel('True Positive Rate')\n",
    "    ax.set_title('ROC curve')\n",
    "    \n",
    "    train_text = 'train acc = {:.3f}, auc = {:.2f}'.format(acc_train, roc_auc_train)\n",
    "    test_text = 'test acc = {:.3f}, auc = {:.2f}'.format(acc_test, roc_auc_test)\n",
    "    ax.legend([train_text, test_text])\n",
    "\n"
   ]
  },
  {
   "cell_type": "code",
   "execution_count": 59,
   "metadata": {},
   "outputs": [
    {
     "data": {
      "image/png": "[encoded data removed]",
      "text/plain": [
       "<matplotlib.figure.Figure at 0xccec860>"
      ]
     },
     "metadata": {},
     "output_type": "display_data"
    }
   ],
   "source": [
    "\n",
    "################ CT & ROC/AUC Plot for train & test data \n",
    "import itertools\n",
    "from sklearn.metrics import roc_curve, auc, roc_auc_score, log_loss, accuracy_score, confusion_matrix\n",
    "#from sklearn.metrics import roc_curve, auc, roc_auc_score, log_loss, accuracy_score\n",
    "\n",
    "threshold = 0.5\n",
    "y_train_pred = clf_tree.predict_proba(X_train)[:,1]\n",
    "y_test_pred = clf_tree.predict_proba(X_test)[:,1]\n",
    "\n",
    "fig,ax = plt.subplots(3,1)\n",
    "fig.set_size_inches(5,15)\n",
    "\n",
    "plot_cm(ax[0],  y_train, y_train_pred, [0,1], 'Confusion matrix (TRAIN)', threshold)\n",
    "plot_cm(ax[1],  y_test, y_pred_en,   [0,1], 'Confusion matrix (TEST)', threshold)\n",
    "plot_auc(ax[2], y_train, y_train_pred, y_test, y_test_pred, threshold)\n",
    "    \n",
    "plt.tight_layout()\n",
    "plt.show()\n",
    "\n"
   ]
  },
  {
   "cell_type": "code",
   "execution_count": 30,
   "metadata": {},
   "outputs": [
    {
     "data": {
      "text/plain": [
       "Text(0.5,1,'Confusion Matrix on Test Data')"
      ]
     },
     "execution_count": 30,
     "metadata": {},
     "output_type": "execute_result"
    },
    {
     "data": {
      "text/plain": [
       "Text(0.5,15,'Predicted')"
      ]
     },
     "execution_count": 30,
     "metadata": {},
     "output_type": "execute_result"
    },
    {
     "data": {
      "text/plain": [
       "Text(33,0.5,'Actual')"
      ]
     },
     "execution_count": 30,
     "metadata": {},
     "output_type": "execute_result"
    },
    {
     "data": {
      "image/png": "[encoded data removed]",
      "text/plain": [
       "<matplotlib.figure.Figure at 0xb88f048>"
      ]
     },
     "metadata": {},
     "output_type": "display_data"
    }
   ],
   "source": [
    "## Another CF Matrix\n",
    "import pylab as pl\n",
    "ax=sns.heatmap(pd.crosstab(y_test, y_pred_en), annot=True, fmt='.0f')\n",
    "ax.set_title('Confusion Matrix on Test Data')\n",
    "pl.xlabel('Predicted')\n",
    "pl.ylabel('Actual')\n",
    "pl.plt.show()"
   ]
  },
  {
   "cell_type": "code",
   "execution_count": 34,
   "metadata": {
    "collapsed": true
   },
   "outputs": [
    {
     "ename": "InvocationException",
     "evalue": "GraphViz's executables not found",
     "output_type": "error",
     "traceback": [
      "\u001b[1;31m---------------------------------------------------------------------------\u001b[0m",
      "\u001b[1;31mInvocationException\u001b[0m                       Traceback (most recent call last)",
      "\u001b[1;32m<ipython-input-34-2e15c2dc6dd4>\u001b[0m in \u001b[0;36m<module>\u001b[1;34m()\u001b[0m\n\u001b[0;32m     13\u001b[0m \u001b[1;32mimport\u001b[0m \u001b[0mpydotplus\u001b[0m \u001b[1;32mas\u001b[0m \u001b[0mpdot\u001b[0m\u001b[1;33m\u001b[0m\u001b[0m\n\u001b[0;32m     14\u001b[0m \u001b[0mplot_it\u001b[0m \u001b[1;33m=\u001b[0m \u001b[0mpdot\u001b[0m\u001b[1;33m.\u001b[0m\u001b[0mgraphviz\u001b[0m\u001b[1;33m.\u001b[0m\u001b[0mgraph_from_dot_file\u001b[0m\u001b[1;33m(\u001b[0m\u001b[1;34m'DT_Contract.dot'\u001b[0m\u001b[1;33m)\u001b[0m\u001b[1;33m\u001b[0m\u001b[0m\n\u001b[1;32m---> 15\u001b[1;33m \u001b[0mplot_it\u001b[0m\u001b[1;33m.\u001b[0m\u001b[0mwrite_jpg\u001b[0m\u001b[1;33m(\u001b[0m \u001b[1;34m'DT_Contract.jpg'\u001b[0m \u001b[1;33m)\u001b[0m\u001b[1;33m\u001b[0m\u001b[0m\n\u001b[0m\u001b[0;32m     16\u001b[0m \u001b[1;33m\u001b[0m\u001b[0m\n\u001b[0;32m     17\u001b[0m \u001b[1;32mfrom\u001b[0m \u001b[0mIPython\u001b[0m\u001b[1;33m.\u001b[0m\u001b[0mdisplay\u001b[0m \u001b[1;32mimport\u001b[0m \u001b[0mImage\u001b[0m\u001b[1;33m\u001b[0m\u001b[0m\n",
      "\u001b[1;32m~\\AppData\\Local\\Continuum\\anaconda3\\lib\\site-packages\\pydotplus\\graphviz.py\u001b[0m in \u001b[0;36m<lambda>\u001b[1;34m(path, f, prog)\u001b[0m\n\u001b[0;32m   1808\u001b[0m                 \u001b[1;32mlambda\u001b[0m \u001b[0mpath\u001b[0m\u001b[1;33m,\u001b[0m\u001b[1;33m\u001b[0m\u001b[0m\n\u001b[0;32m   1809\u001b[0m                 \u001b[0mf\u001b[0m\u001b[1;33m=\u001b[0m\u001b[0mfrmt\u001b[0m\u001b[1;33m,\u001b[0m\u001b[1;33m\u001b[0m\u001b[0m\n\u001b[1;32m-> 1810\u001b[1;33m                 \u001b[0mprog\u001b[0m\u001b[1;33m=\u001b[0m\u001b[0mself\u001b[0m\u001b[1;33m.\u001b[0m\u001b[0mprog\u001b[0m\u001b[1;33m:\u001b[0m \u001b[0mself\u001b[0m\u001b[1;33m.\u001b[0m\u001b[0mwrite\u001b[0m\u001b[1;33m(\u001b[0m\u001b[0mpath\u001b[0m\u001b[1;33m,\u001b[0m \u001b[0mformat\u001b[0m\u001b[1;33m=\u001b[0m\u001b[0mf\u001b[0m\u001b[1;33m,\u001b[0m \u001b[0mprog\u001b[0m\u001b[1;33m=\u001b[0m\u001b[0mprog\u001b[0m\u001b[1;33m)\u001b[0m\u001b[1;33m\u001b[0m\u001b[0m\n\u001b[0m\u001b[0;32m   1811\u001b[0m             )\n\u001b[0;32m   1812\u001b[0m \u001b[1;33m\u001b[0m\u001b[0m\n",
      "\u001b[1;32m~\\AppData\\Local\\Continuum\\anaconda3\\lib\\site-packages\\pydotplus\\graphviz.py\u001b[0m in \u001b[0;36mwrite\u001b[1;34m(self, path, prog, format)\u001b[0m\n\u001b[0;32m   1916\u001b[0m \u001b[1;33m\u001b[0m\u001b[0m\n\u001b[0;32m   1917\u001b[0m             \u001b[1;32melse\u001b[0m\u001b[1;33m:\u001b[0m\u001b[1;33m\u001b[0m\u001b[0m\n\u001b[1;32m-> 1918\u001b[1;33m                 \u001b[0mfobj\u001b[0m\u001b[1;33m.\u001b[0m\u001b[0mwrite\u001b[0m\u001b[1;33m(\u001b[0m\u001b[0mself\u001b[0m\u001b[1;33m.\u001b[0m\u001b[0mcreate\u001b[0m\u001b[1;33m(\u001b[0m\u001b[0mprog\u001b[0m\u001b[1;33m,\u001b[0m \u001b[0mformat\u001b[0m\u001b[1;33m)\u001b[0m\u001b[1;33m)\u001b[0m\u001b[1;33m\u001b[0m\u001b[0m\n\u001b[0m\u001b[0;32m   1919\u001b[0m         \u001b[1;32mfinally\u001b[0m\u001b[1;33m:\u001b[0m\u001b[1;33m\u001b[0m\u001b[0m\n\u001b[0;32m   1920\u001b[0m             \u001b[1;32mif\u001b[0m \u001b[0mclose\u001b[0m\u001b[1;33m:\u001b[0m\u001b[1;33m\u001b[0m\u001b[0m\n",
      "\u001b[1;32m~\\AppData\\Local\\Continuum\\anaconda3\\lib\\site-packages\\pydotplus\\graphviz.py\u001b[0m in \u001b[0;36mcreate\u001b[1;34m(self, prog, format)\u001b[0m\n\u001b[0;32m   1958\u001b[0m             \u001b[1;32mif\u001b[0m \u001b[0mself\u001b[0m\u001b[1;33m.\u001b[0m\u001b[0mprogs\u001b[0m \u001b[1;32mis\u001b[0m \u001b[1;32mNone\u001b[0m\u001b[1;33m:\u001b[0m\u001b[1;33m\u001b[0m\u001b[0m\n\u001b[0;32m   1959\u001b[0m                 raise InvocationException(\n\u001b[1;32m-> 1960\u001b[1;33m                     'GraphViz\\'s executables not found')\n\u001b[0m\u001b[0;32m   1961\u001b[0m \u001b[1;33m\u001b[0m\u001b[0m\n\u001b[0;32m   1962\u001b[0m         \u001b[1;32mif\u001b[0m \u001b[0mprog\u001b[0m \u001b[1;32mnot\u001b[0m \u001b[1;32min\u001b[0m \u001b[0mself\u001b[0m\u001b[1;33m.\u001b[0m\u001b[0mprogs\u001b[0m\u001b[1;33m:\u001b[0m\u001b[1;33m\u001b[0m\u001b[0m\n",
      "\u001b[1;31mInvocationException\u001b[0m: GraphViz's executables not found"
     ]
    }
   ],
   "source": [
    "#import os     \n",
    "#os.environ[\"PATH\"] += os.pathsep + 'C:/Program Files (x86)/Graphviz2.38/bin/'\n",
    "#import GraphViz \n",
    "from sklearn.externals.six import StringIO  \n",
    "from IPython.display import Image  \n",
    "from sklearn.tree import export_graphviz\n",
    "\n",
    "col_names=X_train.columns.difference(['Result'])\n",
    "export_graphviz(clf_tree,\n",
    "              out_file = \"DT_Contract.dot\",\n",
    "              feature_names = X_train.columns )\n",
    "\n",
    "import pydotplus as pdot\n",
    "plot_it = pdot.graphviz.graph_from_dot_file('DT_Contract.dot')\n",
    "plot_it.write_jpg( 'DT_Contract.jpg' )\n",
    "\n",
    "from IPython.display import Image\n",
    "Image(filename='DT_Contract.jpg')\n"
   ]
  },
  {
   "cell_type": "code",
   "execution_count": 42,
   "metadata": {},
   "outputs": [
    {
     "ename": "InvocationException",
     "evalue": "GraphViz's executables not found",
     "output_type": "error",
     "traceback": [
      "\u001b[1;31m---------------------------------------------------------------------------\u001b[0m",
      "\u001b[1;31mInvocationException\u001b[0m                       Traceback (most recent call last)",
      "\u001b[1;32m<ipython-input-42-9fd3ba4146c7>\u001b[0m in \u001b[0;36m<module>\u001b[1;34m()\u001b[0m\n\u001b[0;32m     15\u001b[0m \u001b[0mplot_it\u001b[0m \u001b[1;33m=\u001b[0m \u001b[0mpdot\u001b[0m\u001b[1;33m.\u001b[0m\u001b[0mgraphviz\u001b[0m\u001b[1;33m.\u001b[0m\u001b[0mgraph_from_dot_data\u001b[0m\u001b[1;33m(\u001b[0m\u001b[0mdot_dt\u001b[0m\u001b[1;33m)\u001b[0m\u001b[1;33m\u001b[0m\u001b[0m\n\u001b[0;32m     16\u001b[0m \u001b[1;31m#plot_it.write_jpg( 'DT_Contract.jpg' )\u001b[0m\u001b[1;33m\u001b[0m\u001b[1;33m\u001b[0m\u001b[0m\n\u001b[1;32m---> 17\u001b[1;33m \u001b[0mImage\u001b[0m\u001b[1;33m(\u001b[0m\u001b[0mplot_it\u001b[0m\u001b[1;33m.\u001b[0m\u001b[0mcreate_png\u001b[0m\u001b[1;33m(\u001b[0m\u001b[1;33m)\u001b[0m\u001b[1;33m)\u001b[0m\u001b[1;33m\u001b[0m\u001b[0m\n\u001b[0m\u001b[0;32m     18\u001b[0m \u001b[1;31m#from IPython.display import Image\u001b[0m\u001b[1;33m\u001b[0m\u001b[1;33m\u001b[0m\u001b[0m\n\u001b[0;32m     19\u001b[0m \u001b[1;31m#Image(filename='DT_Contract.jpg')\u001b[0m\u001b[1;33m\u001b[0m\u001b[1;33m\u001b[0m\u001b[0m\n",
      "\u001b[1;32m~\\AppData\\Local\\Continuum\\anaconda3\\lib\\site-packages\\pydotplus\\graphviz.py\u001b[0m in \u001b[0;36m<lambda>\u001b[1;34m(f, prog)\u001b[0m\n\u001b[0;32m   1795\u001b[0m             self.__setattr__(\n\u001b[0;32m   1796\u001b[0m                 \u001b[1;34m'create_'\u001b[0m \u001b[1;33m+\u001b[0m \u001b[0mfrmt\u001b[0m\u001b[1;33m,\u001b[0m\u001b[1;33m\u001b[0m\u001b[0m\n\u001b[1;32m-> 1797\u001b[1;33m                 \u001b[1;32mlambda\u001b[0m \u001b[0mf\u001b[0m\u001b[1;33m=\u001b[0m\u001b[0mfrmt\u001b[0m\u001b[1;33m,\u001b[0m \u001b[0mprog\u001b[0m\u001b[1;33m=\u001b[0m\u001b[0mself\u001b[0m\u001b[1;33m.\u001b[0m\u001b[0mprog\u001b[0m\u001b[1;33m:\u001b[0m \u001b[0mself\u001b[0m\u001b[1;33m.\u001b[0m\u001b[0mcreate\u001b[0m\u001b[1;33m(\u001b[0m\u001b[0mformat\u001b[0m\u001b[1;33m=\u001b[0m\u001b[0mf\u001b[0m\u001b[1;33m,\u001b[0m \u001b[0mprog\u001b[0m\u001b[1;33m=\u001b[0m\u001b[0mprog\u001b[0m\u001b[1;33m)\u001b[0m\u001b[1;33m\u001b[0m\u001b[0m\n\u001b[0m\u001b[0;32m   1798\u001b[0m             )\n\u001b[0;32m   1799\u001b[0m             \u001b[0mf\u001b[0m \u001b[1;33m=\u001b[0m \u001b[0mself\u001b[0m\u001b[1;33m.\u001b[0m\u001b[0m__dict__\u001b[0m\u001b[1;33m[\u001b[0m\u001b[1;34m'create_'\u001b[0m \u001b[1;33m+\u001b[0m \u001b[0mfrmt\u001b[0m\u001b[1;33m]\u001b[0m\u001b[1;33m\u001b[0m\u001b[0m\n",
      "\u001b[1;32m~\\AppData\\Local\\Continuum\\anaconda3\\lib\\site-packages\\pydotplus\\graphviz.py\u001b[0m in \u001b[0;36mcreate\u001b[1;34m(self, prog, format)\u001b[0m\n\u001b[0;32m   1958\u001b[0m             \u001b[1;32mif\u001b[0m \u001b[0mself\u001b[0m\u001b[1;33m.\u001b[0m\u001b[0mprogs\u001b[0m \u001b[1;32mis\u001b[0m \u001b[1;32mNone\u001b[0m\u001b[1;33m:\u001b[0m\u001b[1;33m\u001b[0m\u001b[0m\n\u001b[0;32m   1959\u001b[0m                 raise InvocationException(\n\u001b[1;32m-> 1960\u001b[1;33m                     'GraphViz\\'s executables not found')\n\u001b[0m\u001b[0;32m   1961\u001b[0m \u001b[1;33m\u001b[0m\u001b[0m\n\u001b[0;32m   1962\u001b[0m         \u001b[1;32mif\u001b[0m \u001b[0mprog\u001b[0m \u001b[1;32mnot\u001b[0m \u001b[1;32min\u001b[0m \u001b[0mself\u001b[0m\u001b[1;33m.\u001b[0m\u001b[0mprogs\u001b[0m\u001b[1;33m:\u001b[0m\u001b[1;33m\u001b[0m\u001b[0m\n",
      "\u001b[1;31mInvocationException\u001b[0m: GraphViz's executables not found"
     ]
    }
   ],
   "source": [
    "#import os     \n",
    "#os.environ[\"PATH\"] += os.pathsep + 'C:/Program Files (x86)/Graphviz2.38/bin/'\n",
    "#import GraphViz \n",
    "#from Graphviz import Source\n",
    "#from sklearn.externals.six import StringIO  \n",
    "from IPython.display import Image  \n",
    "from sklearn.tree import export_graphviz\n",
    "\n",
    "col_names=X_train.columns.difference(['Result'])\n",
    "dot_dt=export_graphviz(clf_tree,\n",
    "              out_file = None,\n",
    "              feature_names = X_train.columns )\n",
    "\n",
    "import pydotplus as pdot\n",
    "plot_it = pdot.graphviz.graph_from_dot_data(dot_dt)\n",
    "# Show graph\n",
    "Image(graph.create_png())"
   ]
  },
  {
   "cell_type": "code",
   "execution_count": 42,
   "metadata": {},
   "outputs": [
    {
     "ename": "InvocationException",
     "evalue": "GraphViz's executables not found",
     "output_type": "error",
     "traceback": [
      "\u001b[1;31m---------------------------------------------------------------------------\u001b[0m",
      "\u001b[1;31mInvocationException\u001b[0m                       Traceback (most recent call last)",
      "\u001b[1;32m<ipython-input-42-9fd3ba4146c7>\u001b[0m in \u001b[0;36m<module>\u001b[1;34m()\u001b[0m\n\u001b[0;32m     15\u001b[0m \u001b[0mplot_it\u001b[0m \u001b[1;33m=\u001b[0m \u001b[0mpdot\u001b[0m\u001b[1;33m.\u001b[0m\u001b[0mgraphviz\u001b[0m\u001b[1;33m.\u001b[0m\u001b[0mgraph_from_dot_data\u001b[0m\u001b[1;33m(\u001b[0m\u001b[0mdot_dt\u001b[0m\u001b[1;33m)\u001b[0m\u001b[1;33m\u001b[0m\u001b[0m\n\u001b[0;32m     16\u001b[0m \u001b[1;31m#plot_it.write_jpg( 'DT_Contract.jpg' )\u001b[0m\u001b[1;33m\u001b[0m\u001b[1;33m\u001b[0m\u001b[0m\n\u001b[1;32m---> 17\u001b[1;33m \u001b[0mImage\u001b[0m\u001b[1;33m(\u001b[0m\u001b[0mplot_it\u001b[0m\u001b[1;33m.\u001b[0m\u001b[0mcreate_png\u001b[0m\u001b[1;33m(\u001b[0m\u001b[1;33m)\u001b[0m\u001b[1;33m)\u001b[0m\u001b[1;33m\u001b[0m\u001b[0m\n\u001b[0m\u001b[0;32m     18\u001b[0m \u001b[1;31m#from IPython.display import Image\u001b[0m\u001b[1;33m\u001b[0m\u001b[1;33m\u001b[0m\u001b[0m\n\u001b[0;32m     19\u001b[0m \u001b[1;31m#Image(filename='DT_Contract.jpg')\u001b[0m\u001b[1;33m\u001b[0m\u001b[1;33m\u001b[0m\u001b[0m\n",
      "\u001b[1;32m~\\AppData\\Local\\Continuum\\anaconda3\\lib\\site-packages\\pydotplus\\graphviz.py\u001b[0m in \u001b[0;36m<lambda>\u001b[1;34m(f, prog)\u001b[0m\n\u001b[0;32m   1795\u001b[0m             self.__setattr__(\n\u001b[0;32m   1796\u001b[0m                 \u001b[1;34m'create_'\u001b[0m \u001b[1;33m+\u001b[0m \u001b[0mfrmt\u001b[0m\u001b[1;33m,\u001b[0m\u001b[1;33m\u001b[0m\u001b[0m\n\u001b[1;32m-> 1797\u001b[1;33m                 \u001b[1;32mlambda\u001b[0m \u001b[0mf\u001b[0m\u001b[1;33m=\u001b[0m\u001b[0mfrmt\u001b[0m\u001b[1;33m,\u001b[0m \u001b[0mprog\u001b[0m\u001b[1;33m=\u001b[0m\u001b[0mself\u001b[0m\u001b[1;33m.\u001b[0m\u001b[0mprog\u001b[0m\u001b[1;33m:\u001b[0m \u001b[0mself\u001b[0m\u001b[1;33m.\u001b[0m\u001b[0mcreate\u001b[0m\u001b[1;33m(\u001b[0m\u001b[0mformat\u001b[0m\u001b[1;33m=\u001b[0m\u001b[0mf\u001b[0m\u001b[1;33m,\u001b[0m \u001b[0mprog\u001b[0m\u001b[1;33m=\u001b[0m\u001b[0mprog\u001b[0m\u001b[1;33m)\u001b[0m\u001b[1;33m\u001b[0m\u001b[0m\n\u001b[0m\u001b[0;32m   1798\u001b[0m             )\n\u001b[0;32m   1799\u001b[0m             \u001b[0mf\u001b[0m \u001b[1;33m=\u001b[0m \u001b[0mself\u001b[0m\u001b[1;33m.\u001b[0m\u001b[0m__dict__\u001b[0m\u001b[1;33m[\u001b[0m\u001b[1;34m'create_'\u001b[0m \u001b[1;33m+\u001b[0m \u001b[0mfrmt\u001b[0m\u001b[1;33m]\u001b[0m\u001b[1;33m\u001b[0m\u001b[0m\n",
      "\u001b[1;32m~\\AppData\\Local\\Continuum\\anaconda3\\lib\\site-packages\\pydotplus\\graphviz.py\u001b[0m in \u001b[0;36mcreate\u001b[1;34m(self, prog, format)\u001b[0m\n\u001b[0;32m   1958\u001b[0m             \u001b[1;32mif\u001b[0m \u001b[0mself\u001b[0m\u001b[1;33m.\u001b[0m\u001b[0mprogs\u001b[0m \u001b[1;32mis\u001b[0m \u001b[1;32mNone\u001b[0m\u001b[1;33m:\u001b[0m\u001b[1;33m\u001b[0m\u001b[0m\n\u001b[0;32m   1959\u001b[0m                 raise InvocationException(\n\u001b[1;32m-> 1960\u001b[1;33m                     'GraphViz\\'s executables not found')\n\u001b[0m\u001b[0;32m   1961\u001b[0m \u001b[1;33m\u001b[0m\u001b[0m\n\u001b[0;32m   1962\u001b[0m         \u001b[1;32mif\u001b[0m \u001b[0mprog\u001b[0m \u001b[1;32mnot\u001b[0m \u001b[1;32min\u001b[0m \u001b[0mself\u001b[0m\u001b[1;33m.\u001b[0m\u001b[0mprogs\u001b[0m\u001b[1;33m:\u001b[0m\u001b[1;33m\u001b[0m\u001b[0m\n",
      "\u001b[1;31mInvocationException\u001b[0m: GraphViz's executables not found"
     ]
    }
   ],
   "source": [
    "#import os     \n",
    "#os.environ[\"PATH\"] += os.pathsep + 'C:/Program Files (x86)/Graphviz2.38/bin/'\n",
    "#import GraphViz \n",
    "#from Graphviz import Source\n",
    "#from sklearn.externals.six import StringIO  \n",
    "from IPython.display import Image  \n",
    "from sklearn.tree import export_graphviz\n",
    "\n",
    "col_names=X_train.columns.difference(['Result'])\n",
    "dot_dt=export_graphviz(clf_tree,\n",
    "              out_file = None,\n",
    "              feature_names = X_train.columns )\n",
    "\n",
    "import pydotplus as pdot\n",
    "plot_it = pdot.graphviz.graph_from_dot_data(dot_dt)\n",
    "#plot_it.write_jpg( 'DT_Contract.jpg' )\n",
    "#Image(plot_it.create_png())\n",
    "#from IPython.display import Image\n",
    "#Image(filename='DT_Contract.jpg')\n"
   ]
  },
  {
   "cell_type": "code",
   "execution_count": 33,
   "metadata": {
    "collapsed": true
   },
   "outputs": [
    {
     "ename": "InvocationException",
     "evalue": "GraphViz's executables not found",
     "output_type": "error",
     "traceback": [
      "\u001b[1;31m---------------------------------------------------------------------------\u001b[0m",
      "\u001b[1;31mInvocationException\u001b[0m                       Traceback (most recent call last)",
      "\u001b[1;32m<ipython-input-33-905978701c50>\u001b[0m in \u001b[0;36m<module>\u001b[1;34m()\u001b[0m\n\u001b[0;32m      9\u001b[0m                 special_characters=True,feature_names = X_train.columns )\n\u001b[0;32m     10\u001b[0m \u001b[0mgraph\u001b[0m \u001b[1;33m=\u001b[0m \u001b[0mpydotplus\u001b[0m\u001b[1;33m.\u001b[0m\u001b[0mgraph_from_dot_data\u001b[0m\u001b[1;33m(\u001b[0m\u001b[0mdot_data\u001b[0m\u001b[1;33m.\u001b[0m\u001b[0mgetvalue\u001b[0m\u001b[1;33m(\u001b[0m\u001b[1;33m)\u001b[0m\u001b[1;33m)\u001b[0m\u001b[1;33m\u001b[0m\u001b[0m\n\u001b[1;32m---> 11\u001b[1;33m \u001b[0mImage\u001b[0m\u001b[1;33m(\u001b[0m\u001b[0mgraph\u001b[0m\u001b[1;33m.\u001b[0m\u001b[0mcreate_png\u001b[0m\u001b[1;33m(\u001b[0m\u001b[1;33m)\u001b[0m\u001b[1;33m)\u001b[0m\u001b[1;33m\u001b[0m\u001b[0m\n\u001b[0m",
      "\u001b[1;32m~\\AppData\\Local\\Continuum\\anaconda3\\lib\\site-packages\\pydotplus\\graphviz.py\u001b[0m in \u001b[0;36m<lambda>\u001b[1;34m(f, prog)\u001b[0m\n\u001b[0;32m   1795\u001b[0m             self.__setattr__(\n\u001b[0;32m   1796\u001b[0m                 \u001b[1;34m'create_'\u001b[0m \u001b[1;33m+\u001b[0m \u001b[0mfrmt\u001b[0m\u001b[1;33m,\u001b[0m\u001b[1;33m\u001b[0m\u001b[0m\n\u001b[1;32m-> 1797\u001b[1;33m                 \u001b[1;32mlambda\u001b[0m \u001b[0mf\u001b[0m\u001b[1;33m=\u001b[0m\u001b[0mfrmt\u001b[0m\u001b[1;33m,\u001b[0m \u001b[0mprog\u001b[0m\u001b[1;33m=\u001b[0m\u001b[0mself\u001b[0m\u001b[1;33m.\u001b[0m\u001b[0mprog\u001b[0m\u001b[1;33m:\u001b[0m \u001b[0mself\u001b[0m\u001b[1;33m.\u001b[0m\u001b[0mcreate\u001b[0m\u001b[1;33m(\u001b[0m\u001b[0mformat\u001b[0m\u001b[1;33m=\u001b[0m\u001b[0mf\u001b[0m\u001b[1;33m,\u001b[0m \u001b[0mprog\u001b[0m\u001b[1;33m=\u001b[0m\u001b[0mprog\u001b[0m\u001b[1;33m)\u001b[0m\u001b[1;33m\u001b[0m\u001b[0m\n\u001b[0m\u001b[0;32m   1798\u001b[0m             )\n\u001b[0;32m   1799\u001b[0m             \u001b[0mf\u001b[0m \u001b[1;33m=\u001b[0m \u001b[0mself\u001b[0m\u001b[1;33m.\u001b[0m\u001b[0m__dict__\u001b[0m\u001b[1;33m[\u001b[0m\u001b[1;34m'create_'\u001b[0m \u001b[1;33m+\u001b[0m \u001b[0mfrmt\u001b[0m\u001b[1;33m]\u001b[0m\u001b[1;33m\u001b[0m\u001b[0m\n",
      "\u001b[1;32m~\\AppData\\Local\\Continuum\\anaconda3\\lib\\site-packages\\pydotplus\\graphviz.py\u001b[0m in \u001b[0;36mcreate\u001b[1;34m(self, prog, format)\u001b[0m\n\u001b[0;32m   1958\u001b[0m             \u001b[1;32mif\u001b[0m \u001b[0mself\u001b[0m\u001b[1;33m.\u001b[0m\u001b[0mprogs\u001b[0m \u001b[1;32mis\u001b[0m \u001b[1;32mNone\u001b[0m\u001b[1;33m:\u001b[0m\u001b[1;33m\u001b[0m\u001b[0m\n\u001b[0;32m   1959\u001b[0m                 raise InvocationException(\n\u001b[1;32m-> 1960\u001b[1;33m                     'GraphViz\\'s executables not found')\n\u001b[0m\u001b[0;32m   1961\u001b[0m \u001b[1;33m\u001b[0m\u001b[0m\n\u001b[0;32m   1962\u001b[0m         \u001b[1;32mif\u001b[0m \u001b[0mprog\u001b[0m \u001b[1;32mnot\u001b[0m \u001b[1;32min\u001b[0m \u001b[0mself\u001b[0m\u001b[1;33m.\u001b[0m\u001b[0mprogs\u001b[0m\u001b[1;33m:\u001b[0m\u001b[1;33m\u001b[0m\u001b[0m\n",
      "\u001b[1;31mInvocationException\u001b[0m: GraphViz's executables not found"
     ]
    }
   ],
   "source": [
    "from sklearn.externals.six import StringIO  \n",
    "from IPython.display import Image  \n",
    "from sklearn.tree import export_graphviz\n",
    "import pydotplus\n",
    "dot_data = StringIO()\n",
    "col_names=X_train.columns.difference(['Result'])\n",
    "export_graphviz(clf_tree, out_file=dot_data,  \n",
    "                filled=True, rounded=True,\n",
    "                special_characters=True,feature_names = X_train.columns )\n",
    "graph = pydotplus.graph_from_dot_data(dot_data.getvalue())  \n",
    "Image(graph.create_png())"
   ]
  },
  {
   "cell_type": "code",
   "execution_count": null,
   "metadata": {},
   "outputs": [],
   "source": []
  }
 ],
 "metadata": {
  "kernelspec": {
   "display_name": "Python 3",
   "language": "python",
   "name": "python3"
  },
  "language_info": {
   "codemirror_mode": {
    "name": "ipython",
    "version": 3
   },
   "file_extension": ".py",
   "mimetype": "text/x-python",
   "name": "python",
   "nbconvert_exporter": "python",
   "pygments_lexer": "ipython3",
   "version": "3.6.4"
  }
 },
 "nbformat": 4,
 "nbformat_minor": 2
}
